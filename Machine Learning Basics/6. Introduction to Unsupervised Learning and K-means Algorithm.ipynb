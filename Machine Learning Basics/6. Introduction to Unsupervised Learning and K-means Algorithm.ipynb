{
 "cells": [
  {
   "cell_type": "markdown",
   "metadata": {
    "collapsed": true
   },
   "source": [
    "# Introduction to Unsupervised Learning and K-means Algorithm\n",
    "> In this notebook, it will show you Unsupervised Learning algorithm \"K-means\".\n",
    "\n",
    "> 1.What is Unsupervised Learning?\n",
    "\n",
    "> 2.Brief of K-means Algorithm?\n",
    "\n",
    "> 3.Implementaion of K-means Algorithm with SK-learn\n",
    "\n",
    "> 4.Break it down"
   ]
  },
  {
   "cell_type": "markdown",
   "metadata": {},
   "source": [
    "### 1.What is Unsupervised Learning?\n",
    "Unsupervised Learning Algorithm is **Clustering Algorithm** which has only the dataset without labels.\n",
    "\n",
    "Below image show the application of Unsupervised Learning Algorithm:\n",
    "\n",
    "\n",
    "<img src=\"asset/Unsupervised_learning.png\",width=500,height=500, style=\"float: left;\">"
   ]
  },
  {
   "cell_type": "markdown",
   "metadata": {},
   "source": [
    "### 2.Brief of K-means Algorithm?\n",
    "http://scikit-learn.org/stable/modules/clustering.html#overview-of-clustering-methods\n",
    "\n",
    "The KMeans algorithm clusters data by trying to separate samples in n groups of equal variance, minimizing a criterion known as the inertia or within-cluster sum-of-squares.\n",
    "\n",
    "K-means is hill climbing algorithm, which its result really depends on where you put your inital cluster center points.\n",
    "\n",
    "There are 2 inputs for K-means: K(number of cluster), training set{x1,x2,...,xn}.\n",
    "\n",
    "The algorithm will mainly do 2 things:\n",
    "1. Randomly initilize K cluster centroid;\n",
    "2. Optimize to minimize the total quadratic distance;\n",
    "\n",
    "\n",
    "<img src=\"asset/k-mean1.png\",width=400,height=400, style=\"float: left;\">\n",
    "\n",
    "<img src=\"asset/k-mean2.png\",width=400,height=400, style=\"float: left;\">\n",
    "\n"
   ]
  },
  {
   "cell_type": "markdown",
   "metadata": {},
   "source": [
    "### 3.Implementaion of K-means Algorithm with SK-learn"
   ]
  },
  {
   "cell_type": "code",
   "execution_count": 20,
   "metadata": {
    "collapsed": false
   },
   "outputs": [],
   "source": [
    "from sklearn.cluster import KMeans\n",
    "import numpy as np\n",
    "\n",
    "X = np.array([[1, 2], [1, 4], [1, 0], [4, 2], [4, 4], [4, 0]])\n",
    "kmeans = KMeans(n_clusters=2, random_state=0).fit(X)"
   ]
  },
  {
   "cell_type": "code",
   "execution_count": 19,
   "metadata": {
    "collapsed": false
   },
   "outputs": [
    {
     "data": {
      "text/plain": [
       "array([0, 0, 0, 1, 1, 1], dtype=int32)"
      ]
     },
     "execution_count": 19,
     "metadata": {},
     "output_type": "execute_result"
    }
   ],
   "source": [
    "kmeans.labels_"
   ]
  },
  {
   "cell_type": "code",
   "execution_count": 17,
   "metadata": {
    "collapsed": false
   },
   "outputs": [
    {
     "data": {
      "text/plain": [
       "array([0, 1], dtype=int32)"
      ]
     },
     "execution_count": 17,
     "metadata": {},
     "output_type": "execute_result"
    }
   ],
   "source": [
    "kmeans.predict([[0, 0], [4, 4]])"
   ]
  },
  {
   "cell_type": "code",
   "execution_count": 18,
   "metadata": {
    "collapsed": false
   },
   "outputs": [
    {
     "data": {
      "text/plain": [
       "array([[ 1.,  2.],\n",
       "       [ 4.,  2.]])"
      ]
     },
     "execution_count": 18,
     "metadata": {},
     "output_type": "execute_result"
    }
   ],
   "source": [
    "kmeans.cluster_centers_"
   ]
  },
  {
   "cell_type": "markdown",
   "metadata": {},
   "source": [
    "### 4.Break it down\n",
    "* Unsupervised Learning Algorithm is Clustering Algorithm which has only the dataset without labels.\n",
    "* K-Means first randomly initilize K cluster centroid; then optimize to minimize the total quadratic distance;"
   ]
  }
 ],
 "metadata": {
  "anaconda-cloud": {},
  "kernelspec": {
   "display_name": "Python [conda env:tensorflow]",
   "language": "python",
   "name": "conda-env-tensorflow-py"
  },
  "language_info": {
   "codemirror_mode": {
    "name": "ipython",
    "version": 3
   },
   "file_extension": ".py",
   "mimetype": "text/x-python",
   "name": "python",
   "nbconvert_exporter": "python",
   "pygments_lexer": "ipython3",
   "version": "3.5.2"
  }
 },
 "nbformat": 4,
 "nbformat_minor": 2
}
