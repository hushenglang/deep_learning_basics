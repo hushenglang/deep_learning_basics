{
 "cells": [
  {
   "cell_type": "markdown",
   "metadata": {
    "collapsed": true
   },
   "source": [
    "### This notebook will show how to use nearest neighbor learning algorithm to classify minst handwriting image with Tensorflow"
   ]
  },
  {
   "cell_type": "code",
   "execution_count": 2,
   "metadata": {
    "collapsed": false
   },
   "outputs": [],
   "source": [
    "import numpy as np\n",
    "import tensorflow as tf"
   ]
  },
  {
   "cell_type": "code",
   "execution_count": 3,
   "metadata": {
    "collapsed": false
   },
   "outputs": [
    {
     "name": "stdout",
     "output_type": "stream",
     "text": [
      "Extracting MNIST_data/train-images-idx3-ubyte.gz\n",
      "Extracting MNIST_data/train-labels-idx1-ubyte.gz\n",
      "Extracting MNIST_data/t10k-images-idx3-ubyte.gz\n",
      "Extracting MNIST_data/t10k-labels-idx1-ubyte.gz\n"
     ]
    }
   ],
   "source": [
    "# Import MINST data\n",
    "from tensorflow.examples.tutorials.mnist import input_data\n",
    "mnist = input_data.read_data_sets(\"MNIST_data/\", one_hot=True)"
   ]
  },
  {
   "cell_type": "code",
   "execution_count": 10,
   "metadata": {
    "collapsed": true
   },
   "outputs": [],
   "source": [
    "# In this example, we only use part of minst dataset\n",
    "train_x, train_y = mnist.train.next_batch(10000) #10000 samples for training\n",
    "test_x, test_y = mnist.test.next_batch(100) #100 samples for testing"
   ]
  },
  {
   "cell_type": "code",
   "execution_count": 11,
   "metadata": {
    "collapsed": true
   },
   "outputs": [],
   "source": [
    "# define tensor\n",
    "train_input = tf.placeholder(\"float\", [None, 784])\n",
    "test_input = tf.placeholder(\"float\", [784])"
   ]
  },
  {
   "cell_type": "code",
   "execution_count": 12,
   "metadata": {
    "collapsed": true
   },
   "outputs": [],
   "source": [
    "# Nearest Neighbor calculation using L1 Distance, also you can use other distance algorithm.\n",
    "# Calculate L1 Distance\n",
    "# The intuition is return the most like images from train datasets compared to test images which is for classifing.\n",
    "distance = tf.reduce_sum(tf.abs(tf.add(train_input, tf.negative(test_input))), reduction_indices=1)\n",
    "# Prediction: Get min distance index (Nearest neighbor)\n",
    "pred = tf.arg_min(distance, 0)"
   ]
  },
  {
   "cell_type": "code",
   "execution_count": 13,
   "metadata": {
    "collapsed": false
   },
   "outputs": [
    {
     "name": "stdout",
     "output_type": "stream",
     "text": [
      "Test 0 Prediction: 9 True Class: 9\n",
      "Test 1 Prediction: 0 True Class: 0\n",
      "Test 2 Prediction: 2 True Class: 2\n",
      "Test 3 Prediction: 8 True Class: 5\n",
      "Test 4 Prediction: 1 True Class: 1\n",
      "Test 5 Prediction: 9 True Class: 9\n",
      "Test 6 Prediction: 7 True Class: 7\n",
      "Test 7 Prediction: 8 True Class: 8\n",
      "Test 8 Prediction: 1 True Class: 1\n",
      "Test 9 Prediction: 0 True Class: 0\n",
      "Test 10 Prediction: 4 True Class: 4\n",
      "Test 11 Prediction: 1 True Class: 1\n",
      "Test 12 Prediction: 7 True Class: 7\n",
      "Test 13 Prediction: 9 True Class: 9\n",
      "Test 14 Prediction: 5 True Class: 6\n",
      "Test 15 Prediction: 4 True Class: 4\n",
      "Test 16 Prediction: 2 True Class: 2\n",
      "Test 17 Prediction: 6 True Class: 6\n",
      "Test 18 Prediction: 8 True Class: 8\n",
      "Test 19 Prediction: 1 True Class: 1\n",
      "Test 20 Prediction: 3 True Class: 3\n",
      "Test 21 Prediction: 7 True Class: 7\n",
      "Test 22 Prediction: 5 True Class: 5\n",
      "Test 23 Prediction: 4 True Class: 4\n",
      "Test 24 Prediction: 4 True Class: 4\n",
      "Test 25 Prediction: 1 True Class: 1\n",
      "Test 26 Prediction: 3 True Class: 8\n",
      "Test 27 Prediction: 1 True Class: 1\n",
      "Test 28 Prediction: 3 True Class: 3\n",
      "Test 29 Prediction: 8 True Class: 8\n",
      "Test 30 Prediction: 1 True Class: 1\n",
      "Test 31 Prediction: 2 True Class: 2\n",
      "Test 32 Prediction: 5 True Class: 5\n",
      "Test 33 Prediction: 8 True Class: 8\n",
      "Test 34 Prediction: 0 True Class: 0\n",
      "Test 35 Prediction: 6 True Class: 6\n",
      "Test 36 Prediction: 2 True Class: 2\n",
      "Test 37 Prediction: 1 True Class: 1\n",
      "Test 38 Prediction: 1 True Class: 1\n",
      "Test 39 Prediction: 1 True Class: 7\n",
      "Test 40 Prediction: 1 True Class: 1\n",
      "Test 41 Prediction: 5 True Class: 5\n",
      "Test 42 Prediction: 3 True Class: 3\n",
      "Test 43 Prediction: 4 True Class: 4\n",
      "Test 44 Prediction: 6 True Class: 6\n",
      "Test 45 Prediction: 9 True Class: 9\n",
      "Test 46 Prediction: 5 True Class: 5\n",
      "Test 47 Prediction: 0 True Class: 0\n",
      "Test 48 Prediction: 9 True Class: 9\n",
      "Test 49 Prediction: 2 True Class: 2\n",
      "Test 50 Prediction: 0 True Class: 2\n",
      "Test 51 Prediction: 4 True Class: 4\n",
      "Test 52 Prediction: 8 True Class: 8\n",
      "Test 53 Prediction: 2 True Class: 2\n",
      "Test 54 Prediction: 1 True Class: 1\n",
      "Test 55 Prediction: 7 True Class: 7\n",
      "Test 56 Prediction: 2 True Class: 2\n",
      "Test 57 Prediction: 4 True Class: 4\n",
      "Test 58 Prediction: 9 True Class: 9\n",
      "Test 59 Prediction: 4 True Class: 4\n",
      "Test 60 Prediction: 4 True Class: 4\n",
      "Test 61 Prediction: 0 True Class: 0\n",
      "Test 62 Prediction: 7 True Class: 3\n",
      "Test 63 Prediction: 9 True Class: 9\n",
      "Test 64 Prediction: 2 True Class: 2\n",
      "Test 65 Prediction: 2 True Class: 2\n",
      "Test 66 Prediction: 3 True Class: 3\n",
      "Test 67 Prediction: 3 True Class: 3\n",
      "Test 68 Prediction: 4 True Class: 8\n",
      "Test 69 Prediction: 3 True Class: 3\n",
      "Test 70 Prediction: 5 True Class: 5\n",
      "Test 71 Prediction: 7 True Class: 7\n",
      "Test 72 Prediction: 3 True Class: 3\n",
      "Test 73 Prediction: 5 True Class: 5\n",
      "Test 74 Prediction: 8 True Class: 8\n",
      "Test 75 Prediction: 1 True Class: 1\n",
      "Test 76 Prediction: 2 True Class: 2\n",
      "Test 77 Prediction: 4 True Class: 4\n",
      "Test 78 Prediction: 4 True Class: 4\n",
      "Test 79 Prediction: 6 True Class: 6\n",
      "Test 80 Prediction: 4 True Class: 4\n",
      "Test 81 Prediction: 9 True Class: 9\n",
      "Test 82 Prediction: 3 True Class: 5\n",
      "Test 83 Prediction: 1 True Class: 1\n",
      "Test 84 Prediction: 0 True Class: 0\n",
      "Test 85 Prediction: 6 True Class: 6\n",
      "Test 86 Prediction: 9 True Class: 9\n",
      "Test 87 Prediction: 5 True Class: 5\n",
      "Test 88 Prediction: 9 True Class: 9\n",
      "Test 89 Prediction: 5 True Class: 5\n",
      "Test 90 Prediction: 9 True Class: 9\n",
      "Test 91 Prediction: 7 True Class: 7\n",
      "Test 92 Prediction: 6 True Class: 3\n",
      "Test 93 Prediction: 8 True Class: 8\n",
      "Test 94 Prediction: 0 True Class: 0\n",
      "Test 95 Prediction: 3 True Class: 3\n",
      "Test 96 Prediction: 7 True Class: 7\n",
      "Test 97 Prediction: 1 True Class: 1\n",
      "Test 98 Prediction: 3 True Class: 3\n",
      "Test 99 Prediction: 6 True Class: 6\n",
      "Done!\n",
      "Accuracy: 0.9100000000000006\n"
     ]
    }
   ],
   "source": [
    "accuracy = 0\n",
    "\n",
    "# Initializing the variables\n",
    "init = tf.global_variables_initializer()\n",
    "\n",
    "# Launch the graph\n",
    "with tf.Session() as sess:\n",
    "    sess.run(init)\n",
    "\n",
    "    # loop over test data\n",
    "    for i in range(len(test_x)):\n",
    "        # Get nearest neighbor\n",
    "        nn_index = sess.run(pred, feed_dict={train_input: train_x, test_input: test_x[i, :]})\n",
    "        # Get nearest neighbor class label and compare it to its true label\n",
    "        print (\"Test\", i, \"Prediction:\", np.argmax(train_y[nn_index]), \\\n",
    "            \"True Class:\", np.argmax(test_y[i]))\n",
    "        # Calculate accuracy\n",
    "        if np.argmax(train_y[nn_index]) == np.argmax(test_y[i]):\n",
    "            accuracy += 1./len(test_x)\n",
    "    print (\"Done!\")\n",
    "    print (\"Accuracy:\", accuracy)"
   ]
  }
 ],
 "metadata": {
  "anaconda-cloud": {},
  "kernelspec": {
   "display_name": "Python [conda env:tensorflow]",
   "language": "python",
   "name": "conda-env-tensorflow-py"
  },
  "language_info": {
   "codemirror_mode": {
    "name": "ipython",
    "version": 3
   },
   "file_extension": ".py",
   "mimetype": "text/x-python",
   "name": "python",
   "nbconvert_exporter": "python",
   "pygments_lexer": "ipython3",
   "version": "3.5.2"
  }
 },
 "nbformat": 4,
 "nbformat_minor": 2
}
