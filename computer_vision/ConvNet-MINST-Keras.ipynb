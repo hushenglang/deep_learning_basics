{
 "cells": [
  {
   "cell_type": "markdown",
   "metadata": {
    "collapsed": true
   },
   "source": [
    "### This notebook is Convolutional neural network implementation for classifying MNIST handwritting with Keras.\n",
    "\n",
    "The reason why we'd better know how to use keras is that it is very fast to build the network to test the result with it is higher-lever API.\n",
    "\n",
    "[MNIST Dataset]  http://yann.lecun.com/exdb/mnist/\n",
    "\n",
    "[Author] hushenglang@gmail.com"
   ]
  },
  {
   "cell_type": "code",
   "execution_count": null,
   "metadata": {
    "collapsed": false
   },
   "outputs": [],
   "source": [
    "from keras.datasets import mnist\n",
    "from keras.models import Sequential\n",
    "from keras.layers import Dense, Dropout, Conv2D, MaxPool2D\n",
    "from keras.layers.core import Flatten\n",
    "from keras import optimizers\n",
    "from keras import utils\n",
    "import numpy as np"
   ]
  },
  {
   "cell_type": "code",
   "execution_count": null,
   "metadata": {
    "collapsed": false
   },
   "outputs": [],
   "source": [
    "#load MNIST data\n",
    "(train_x, train_y), (test_x, test_y) = mnist.load_data()\n",
    "\n",
    "train_x = np.reshape(train_x, (-1,1,28,28))\n",
    "train_y = utils.to_categorical(train_y)\n",
    "\n",
    "test_x = np.reshape(test_x, (-1,1,28,28))\n",
    "test_y = utils.to_categorical(test_y)"
   ]
  },
  {
   "cell_type": "code",
   "execution_count": null,
   "metadata": {
    "collapsed": false
   },
   "outputs": [],
   "source": [
    "train_x.shape"
   ]
  },
  {
   "cell_type": "code",
   "execution_count": null,
   "metadata": {
    "collapsed": false
   },
   "outputs": [],
   "source": [
    "train_y.shape"
   ]
  },
  {
   "cell_type": "markdown",
   "metadata": {},
   "source": [
    "Stack layers to construct ConvNets, Architecture is that *** ConvNet+Maxpooling -> ConvNet+Maxpooling -> FullConnect+Dropout ->  FullConnect+Dropout  -> Output***"
   ]
  },
  {
   "cell_type": "code",
   "execution_count": null,
   "metadata": {
    "collapsed": false
   },
   "outputs": [],
   "source": [
    "# stack network\n",
    "model = Sequential()\n",
    "# shape=(28,28,1)\n",
    "model.add(Conv2D(32, 3, input_shape=(1,28,28), strides=(1,1), padding=\"SAME\", activation=\"relu\", data_format=\"channels_first\"))\n",
    "model.add(MaxPool2D(pool_size=(2,2), strides=2, padding=\"SAME\"))\n",
    "# shape=(14,14,32)\n",
    "model.add(Conv2D(64, 3, strides=(1,1), padding=\"SAME\", activation=\"relu\"))\n",
    "model.add(MaxPool2D(pool_size=(2,2), strides=2, padding=\"SAME\"))\n",
    "# shape=(7,7,64)\n",
    "model.add(Flatten())\n",
    "# shape=(7*7*64,)\n",
    "model.add(Dense(1024, activation=\"relu\"))\n",
    "model.add(Dropout(0.5))\n",
    "\n",
    "model.add(Dense(256, activation=\"relu\"))\n",
    "model.add(Dropout(0.5))\n",
    "\n",
    "model.add(Dense(10, activation=\"softmax\"))\n",
    "\n",
    "model.compile(loss=\"categorical_crossentropy\", metrics=['accuracy'], optimizer=\"Adagrad\")"
   ]
  },
  {
   "cell_type": "code",
   "execution_count": null,
   "metadata": {
    "collapsed": false
   },
   "outputs": [],
   "source": [
    "model.fit(train_x, train_y, batch_size=32, epochs=10, validation_data=(test_x, test_y))"
   ]
  },
  {
   "cell_type": "markdown",
   "metadata": {},
   "source": [
    "1. try use different dropout on different layers, input layer, hidden layers.\n",
    "2. try different opimizer\n",
    "3. try validation_split"
   ]
  }
 ],
 "metadata": {
  "anaconda-cloud": {},
  "kernelspec": {
   "display_name": "Python [conda env:tensorflow]",
   "language": "python",
   "name": "conda-env-tensorflow-py"
  },
  "language_info": {
   "codemirror_mode": {
    "name": "ipython",
    "version": 3
   },
   "file_extension": ".py",
   "mimetype": "text/x-python",
   "name": "python",
   "nbconvert_exporter": "python",
   "pygments_lexer": "ipython3",
   "version": "3.5.2"
  }
 },
 "nbformat": 4,
 "nbformat_minor": 2
}
