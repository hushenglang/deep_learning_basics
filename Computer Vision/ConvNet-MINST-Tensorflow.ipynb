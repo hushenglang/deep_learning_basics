{
 "cells": [
  {
   "cell_type": "markdown",
   "metadata": {
    "collapsed": true,
    "deletable": true,
    "editable": true
   },
   "source": [
    "### This notebook is Convolutional neural network implementation for classifying MNIST handwritting with tensorflow.\n",
    "\n",
    "[MNIST Dataset]  http://yann.lecun.com/exdb/mnist/\n",
    "\n",
    "[Author] hushenglang@gmail.com"
   ]
  },
  {
   "cell_type": "code",
   "execution_count": 12,
   "metadata": {
    "collapsed": true,
    "deletable": true,
    "editable": true
   },
   "outputs": [],
   "source": [
    "# Import tensoflow lib\n",
    "import tensorflow as tf"
   ]
  },
  {
   "cell_type": "code",
   "execution_count": 13,
   "metadata": {
    "collapsed": false,
    "deletable": true,
    "editable": true
   },
   "outputs": [
    {
     "name": "stdout",
     "output_type": "stream",
     "text": [
      "No GPU found. Please use a GPU to train your neural network.\n"
     ]
    }
   ],
   "source": [
    "# Check for a GPU\n",
    "if not tf.test.gpu_device_name():\n",
    "    print('No GPU found. Please use a GPU to train your neural network.')\n",
    "else:\n",
    "    print('Default GPU Device: {}'.format(tf.test.gpu_device_name()))"
   ]
  },
  {
   "cell_type": "code",
   "execution_count": 14,
   "metadata": {
    "collapsed": true,
    "deletable": true,
    "editable": true
   },
   "outputs": [],
   "source": [
    "# Import MNIST data\n",
    "from tensorflow.examples.tutorials.mnist import input_data"
   ]
  },
  {
   "cell_type": "code",
   "execution_count": 15,
   "metadata": {
    "collapsed": false,
    "deletable": true,
    "editable": true,
    "scrolled": true
   },
   "outputs": [
    {
     "name": "stdout",
     "output_type": "stream",
     "text": [
      "Extracting MNIST_data/train-images-idx3-ubyte.gz\n",
      "Extracting MNIST_data/train-labels-idx1-ubyte.gz\n",
      "Extracting MNIST_data/t10k-images-idx3-ubyte.gz\n",
      "Extracting MNIST_data/t10k-labels-idx1-ubyte.gz\n"
     ]
    }
   ],
   "source": [
    "mnist = input_data.read_data_sets(\"MNIST_data/\", one_hot=True)"
   ]
  },
  {
   "cell_type": "code",
   "execution_count": 5,
   "metadata": {
    "collapsed": false,
    "deletable": true,
    "editable": true
   },
   "outputs": [],
   "source": [
    "# define trained model save path\n",
    "import os\n",
    "save_model_directory = './Model'\n",
    "if not os.path.exists(save_model_directory):\n",
    "    os.makedirs(save_model_directory)\n",
    "\n",
    "save_model_path = save_model_directory+'/image_classification_tensorflow'"
   ]
  },
  {
   "cell_type": "markdown",
   "metadata": {
    "deletable": true,
    "editable": true
   },
   "source": [
    "### Build Network"
   ]
  },
  {
   "cell_type": "code",
   "execution_count": 6,
   "metadata": {
    "collapsed": true,
    "deletable": true,
    "editable": true
   },
   "outputs": [],
   "source": [
    "def conv2d(x, filter_height, filter_width, out_channels, stride=1):\n",
    "    # conv layer wrapper.\n",
    "    in_channels = x.get_shape()[3].value\n",
    "    W = tf.Variable(tf.truncated_normal([filter_height, filter_width, in_channels, out_channels], seed=10))\n",
    "    b = tf.Variable(tf.truncated_normal([out_channels], seed=20))\n",
    "    conv_x = tf.nn.conv2d(x, W, strides=[1,stride,stride,1], padding=\"SAME\")\n",
    "    conv_x = tf.nn.bias_add(conv_x, b)\n",
    "    return tf.nn.relu(conv_x) # here we can also use leaky relu which can prevent dead neron."
   ]
  },
  {
   "cell_type": "code",
   "execution_count": 7,
   "metadata": {
    "collapsed": true,
    "deletable": true,
    "editable": true
   },
   "outputs": [],
   "source": [
    "def maxpool2d(x, k=2):\n",
    "    # max pooling wrapper\n",
    "    return tf.nn.max_pool(x, ksize=[1,k,k,1], strides=[1,k,k,1], padding=\"SAME\")"
   ]
  },
  {
   "cell_type": "code",
   "execution_count": 8,
   "metadata": {
    "collapsed": true,
    "deletable": true,
    "editable": true
   },
   "outputs": [],
   "source": [
    "def fully_connect(x, num_hidden_units):\n",
    "    # fully connect wrapper\n",
    "    num_input = x.get_shape()[1].value;\n",
    "    W = tf.Variable(tf.truncated_normal([num_input, num_hidden_units], seed=30))\n",
    "    b = tf.Variable(tf.truncated_normal([num_hidden_units], seed=40))\n",
    "    logits = tf.matmul(x,W)+b\n",
    "    return tf.nn.relu(logits)"
   ]
  },
  {
   "cell_type": "code",
   "execution_count": 9,
   "metadata": {
    "collapsed": true,
    "deletable": true,
    "editable": true
   },
   "outputs": [],
   "source": [
    "def output(x, num_output_units):\n",
    "    # output layer wrapper\n",
    "    num_input = x.get_shape()[1].value;\n",
    "    W = tf.Variable(tf.truncated_normal([num_input, num_output_units], seed=50))\n",
    "    b = tf.Variable(tf.truncated_normal([num_output_units], seed=40))\n",
    "    logits = tf.matmul(x,W)+b\n",
    "    return logits"
   ]
  },
  {
   "cell_type": "markdown",
   "metadata": {
    "deletable": true,
    "editable": true
   },
   "source": [
    "### ConvNet's architecure using here is:\n",
    "\"conv\" -> \"maxpool\" -> \"conv\" -> \"maxpool\" ->\"full connect\"+\"dropout\" -> \"outlayer\""
   ]
  },
  {
   "cell_type": "code",
   "execution_count": 10,
   "metadata": {
    "collapsed": false,
    "deletable": true,
    "editable": true
   },
   "outputs": [],
   "source": [
    "def conv_net(x, dropout, num_hidden_units):\n",
    "    # build network graph\n",
    "    x = tf.reshape(x, shape=[-1, 28, 28, 1]) # Reshape input picture\n",
    "    print(x.shape)\n",
    "    \n",
    "    # conv layer 1. filter size: 5x5x32\n",
    "    conv1 = conv2d(x, 5, 5, 32, stride=1)\n",
    "    conv1 = maxpool2d(conv1, k=2)\n",
    "    print(conv1.shape)\n",
    "\n",
    "    \n",
    "    # conv layer 2. filter size: 5x5x64\n",
    "    conv2 = conv2d(conv1, 5, 5, 64, stride=1)\n",
    "    conv2 = maxpool2d(conv2, k=2)\n",
    "    print(conv2.shape)\n",
    "    \n",
    "    # full connect layer\n",
    "    fc1 = tf.contrib.layers.flatten(conv2); # later replace this by low-level implementation\n",
    "    fc1 = fully_connect(fc1, num_hidden_units)\n",
    "    fc1 = tf.nn.dropout(fc1, dropout) # add dropout\n",
    "    print(fc1.shape)\n",
    "    \n",
    "    # output\n",
    "    logits = output(fc1, n_class)\n",
    "    \n",
    "    print(logits.shape)\n",
    "    \n",
    "    return logits"
   ]
  },
  {
   "cell_type": "code",
   "execution_count": 11,
   "metadata": {
    "collapsed": true,
    "deletable": true,
    "editable": true
   },
   "outputs": [],
   "source": [
    "# input param\n",
    "n_input = 784 # MNIST data input (img shape: 28*28)\n",
    "n_class = 10 # MNIST total classes (0-9 digits)\n",
    "\n",
    "# hyper parameter\n",
    "training_iters = 5*400\n",
    "batch_size = 128\n",
    "learning_rate = 0.01\n",
    "num_hidden_units = 1024\n",
    "dropout_rate = 0.8 # Dropout, probability to keep units\n",
    "display_step = 10"
   ]
  },
  {
   "cell_type": "code",
   "execution_count": 12,
   "metadata": {
    "collapsed": false,
    "deletable": true,
    "editable": true
   },
   "outputs": [
    {
     "name": "stdout",
     "output_type": "stream",
     "text": [
      "(?, 28, 28, 1)\n",
      "(?, 14, 14, 32)\n",
      "(?, 7, 7, 64)\n",
      "(?, 1024)\n",
      "(?, 10)\n"
     ]
    }
   ],
   "source": [
    "# tf graph input\n",
    "x = tf.placeholder(tf.float32, [None, n_input], name=\"x\")\n",
    "y = tf.placeholder(tf.float32, [None, n_class], name=\"y\")\n",
    "keep_prop = tf.placeholder(tf.float32, name=\"keep_prop\")\n",
    "\n",
    "# define loss and optimizer\n",
    "logits = conv_net(x, keep_prop, num_hidden_units)\n",
    "# Name logits Tensor, so that is can be loaded from disk after training\n",
    "logits = tf.identity(logits, name='logits')\n",
    "\n",
    "loss = tf.reduce_mean(tf.nn.softmax_cross_entropy_with_logits(logits=logits, labels=y))\n",
    "optimizer = tf.train.AdamOptimizer(learning_rate=learning_rate).minimize(loss)\n",
    "\n",
    "# define evaluation accuracy\n",
    "correct_pred = tf.equal(tf.argmax(logits, 1), tf.argmax(y, 1))\n",
    "accuracy = tf.reduce_mean(tf.cast(correct_pred, tf.float32), name=\"accuracy\")\n",
    "\n",
    "# define global initializer\n",
    "init = tf.global_variables_initializer()"
   ]
  },
  {
   "cell_type": "code",
   "execution_count": 14,
   "metadata": {
    "collapsed": false,
    "deletable": true,
    "editable": true
   },
   "outputs": [
    {
     "name": "stdout",
     "output_type": "stream",
     "text": [
      "training step 10/2000: train_loss=12692.4062, train_accuracy=0.4688, validation_accuracy=0.4658\n",
      "training step 20/2000: train_loss=2331.9766, train_accuracy=0.6172, validation_accuracy=0.7194\n",
      "training step 30/2000: train_loss=548.4990, train_accuracy=0.8516, validation_accuracy=0.8310\n",
      "training step 40/2000: train_loss=327.6933, train_accuracy=0.8906, validation_accuracy=0.8598\n",
      "training step 50/2000: train_loss=529.2123, train_accuracy=0.8125, validation_accuracy=0.8778\n",
      "training step 60/2000: train_loss=144.4978, train_accuracy=0.8906, validation_accuracy=0.8894\n",
      "training step 70/2000: train_loss=305.9016, train_accuracy=0.8516, validation_accuracy=0.8982\n",
      "training step 80/2000: train_loss=82.4152, train_accuracy=0.9453, validation_accuracy=0.9072\n",
      "training step 90/2000: train_loss=157.2142, train_accuracy=0.8594, validation_accuracy=0.9084\n",
      "training step 100/2000: train_loss=72.6707, train_accuracy=0.9375, validation_accuracy=0.9132\n",
      "training step 110/2000: train_loss=56.2719, train_accuracy=0.9375, validation_accuracy=0.9242\n",
      "training step 120/2000: train_loss=141.3132, train_accuracy=0.9141, validation_accuracy=0.9134\n",
      "training step 130/2000: train_loss=82.2968, train_accuracy=0.8750, validation_accuracy=0.9168\n",
      "training step 140/2000: train_loss=57.0722, train_accuracy=0.9141, validation_accuracy=0.9312\n",
      "training step 150/2000: train_loss=40.6794, train_accuracy=0.9609, validation_accuracy=0.9248\n",
      "training step 160/2000: train_loss=141.0973, train_accuracy=0.8984, validation_accuracy=0.9282\n",
      "training step 170/2000: train_loss=29.0398, train_accuracy=0.9609, validation_accuracy=0.9336\n",
      "training step 180/2000: train_loss=78.0655, train_accuracy=0.9062, validation_accuracy=0.9292\n",
      "training step 190/2000: train_loss=63.1088, train_accuracy=0.9219, validation_accuracy=0.9370\n",
      "training step 200/2000: train_loss=51.9436, train_accuracy=0.9453, validation_accuracy=0.9368\n",
      "training step 210/2000: train_loss=23.5675, train_accuracy=0.9766, validation_accuracy=0.9330\n",
      "training step 220/2000: train_loss=81.4534, train_accuracy=0.9219, validation_accuracy=0.9408\n",
      "training step 230/2000: train_loss=105.7847, train_accuracy=0.8828, validation_accuracy=0.9444\n",
      "training step 240/2000: train_loss=20.1979, train_accuracy=0.9766, validation_accuracy=0.9430\n",
      "training step 250/2000: train_loss=4.5700, train_accuracy=0.9766, validation_accuracy=0.9466\n",
      "training step 260/2000: train_loss=33.5396, train_accuracy=0.9609, validation_accuracy=0.9492\n",
      "training step 270/2000: train_loss=28.7901, train_accuracy=0.9766, validation_accuracy=0.9498\n",
      "training step 280/2000: train_loss=62.5118, train_accuracy=0.9297, validation_accuracy=0.9466\n",
      "training step 290/2000: train_loss=15.9973, train_accuracy=0.9609, validation_accuracy=0.9408\n",
      "training step 300/2000: train_loss=53.0004, train_accuracy=0.9531, validation_accuracy=0.9390\n",
      "training step 310/2000: train_loss=60.3718, train_accuracy=0.9219, validation_accuracy=0.9440\n",
      "training step 320/2000: train_loss=62.1198, train_accuracy=0.9141, validation_accuracy=0.9472\n",
      "training step 330/2000: train_loss=38.7153, train_accuracy=0.9766, validation_accuracy=0.9496\n",
      "training step 340/2000: train_loss=59.8285, train_accuracy=0.9062, validation_accuracy=0.9520\n",
      "training step 350/2000: train_loss=20.3327, train_accuracy=0.9766, validation_accuracy=0.9552\n",
      "training step 360/2000: train_loss=24.6753, train_accuracy=0.9609, validation_accuracy=0.9552\n",
      "training step 370/2000: train_loss=46.5656, train_accuracy=0.9453, validation_accuracy=0.9482\n",
      "training step 380/2000: train_loss=77.5727, train_accuracy=0.9375, validation_accuracy=0.9500\n",
      "training step 390/2000: train_loss=14.2006, train_accuracy=0.9688, validation_accuracy=0.9566\n",
      "training step 400/2000: train_loss=19.3753, train_accuracy=0.9609, validation_accuracy=0.9504\n",
      "training step 410/2000: train_loss=7.3067, train_accuracy=0.9844, validation_accuracy=0.9528\n",
      "training step 420/2000: train_loss=15.5082, train_accuracy=0.9609, validation_accuracy=0.9566\n",
      "training step 430/2000: train_loss=19.9497, train_accuracy=0.9688, validation_accuracy=0.9612\n",
      "training step 440/2000: train_loss=5.2827, train_accuracy=0.9688, validation_accuracy=0.9574\n",
      "training step 450/2000: train_loss=26.5238, train_accuracy=0.9531, validation_accuracy=0.9614\n",
      "training step 460/2000: train_loss=33.5902, train_accuracy=0.9609, validation_accuracy=0.9598\n",
      "training step 470/2000: train_loss=27.1594, train_accuracy=0.9453, validation_accuracy=0.9556\n",
      "training step 480/2000: train_loss=12.1484, train_accuracy=0.9844, validation_accuracy=0.9584\n",
      "training step 490/2000: train_loss=10.3982, train_accuracy=0.9688, validation_accuracy=0.9580\n",
      "training step 500/2000: train_loss=15.0990, train_accuracy=0.9688, validation_accuracy=0.9622\n",
      "training step 510/2000: train_loss=68.5030, train_accuracy=0.9531, validation_accuracy=0.9580\n",
      "training step 520/2000: train_loss=34.5313, train_accuracy=0.9688, validation_accuracy=0.9616\n",
      "training step 530/2000: train_loss=1.1504, train_accuracy=0.9922, validation_accuracy=0.9574\n",
      "training step 540/2000: train_loss=7.5936, train_accuracy=0.9766, validation_accuracy=0.9622\n",
      "training step 550/2000: train_loss=8.7721, train_accuracy=0.9688, validation_accuracy=0.9642\n",
      "training step 560/2000: train_loss=21.6026, train_accuracy=0.9688, validation_accuracy=0.9642\n",
      "training step 570/2000: train_loss=23.8031, train_accuracy=0.9609, validation_accuracy=0.9622\n",
      "training step 580/2000: train_loss=23.3594, train_accuracy=0.9766, validation_accuracy=0.9568\n",
      "training step 590/2000: train_loss=4.7441, train_accuracy=0.9844, validation_accuracy=0.9592\n",
      "training step 600/2000: train_loss=24.9454, train_accuracy=0.9609, validation_accuracy=0.9566\n",
      "training step 610/2000: train_loss=29.5390, train_accuracy=0.9609, validation_accuracy=0.9586\n",
      "training step 620/2000: train_loss=13.2810, train_accuracy=0.9844, validation_accuracy=0.9622\n",
      "training step 630/2000: train_loss=13.1223, train_accuracy=0.9766, validation_accuracy=0.9618\n",
      "training step 640/2000: train_loss=44.6287, train_accuracy=0.9531, validation_accuracy=0.9636\n",
      "training step 650/2000: train_loss=13.7268, train_accuracy=0.9688, validation_accuracy=0.9628\n",
      "training step 660/2000: train_loss=18.7462, train_accuracy=0.9688, validation_accuracy=0.9616\n",
      "training step 670/2000: train_loss=30.0271, train_accuracy=0.9766, validation_accuracy=0.9666\n",
      "training step 680/2000: train_loss=29.4835, train_accuracy=0.9609, validation_accuracy=0.9620\n",
      "training step 690/2000: train_loss=21.9379, train_accuracy=0.9766, validation_accuracy=0.9608\n",
      "training step 700/2000: train_loss=27.6068, train_accuracy=0.9453, validation_accuracy=0.9520\n",
      "training step 710/2000: train_loss=17.6997, train_accuracy=0.9609, validation_accuracy=0.9572\n",
      "training step 720/2000: train_loss=1.9572, train_accuracy=0.9922, validation_accuracy=0.9602\n",
      "training step 730/2000: train_loss=17.3230, train_accuracy=0.9375, validation_accuracy=0.9632\n",
      "training step 740/2000: train_loss=11.9588, train_accuracy=0.9688, validation_accuracy=0.9656\n",
      "training step 750/2000: train_loss=6.9625, train_accuracy=0.9844, validation_accuracy=0.9618\n",
      "training step 760/2000: train_loss=3.2882, train_accuracy=0.9688, validation_accuracy=0.9630\n",
      "training step 770/2000: train_loss=4.5093, train_accuracy=0.9922, validation_accuracy=0.9688\n",
      "training step 780/2000: train_loss=23.0657, train_accuracy=0.9609, validation_accuracy=0.9660\n",
      "training step 790/2000: train_loss=22.0367, train_accuracy=0.9688, validation_accuracy=0.9628\n",
      "training step 800/2000: train_loss=44.5614, train_accuracy=0.9609, validation_accuracy=0.9606\n",
      "training step 810/2000: train_loss=7.6421, train_accuracy=0.9844, validation_accuracy=0.9654\n",
      "training step 820/2000: train_loss=10.0328, train_accuracy=0.9766, validation_accuracy=0.9674\n",
      "training step 830/2000: train_loss=15.4271, train_accuracy=0.9688, validation_accuracy=0.9696\n",
      "training step 840/2000: train_loss=26.2861, train_accuracy=0.9609, validation_accuracy=0.9682\n",
      "training step 850/2000: train_loss=1.4393, train_accuracy=0.9766, validation_accuracy=0.9700\n",
      "training step 860/2000: train_loss=44.8140, train_accuracy=0.9688, validation_accuracy=0.9712\n",
      "training step 870/2000: train_loss=10.1814, train_accuracy=0.9844, validation_accuracy=0.9704\n",
      "training step 880/2000: train_loss=10.1762, train_accuracy=0.9688, validation_accuracy=0.9700\n",
      "training step 890/2000: train_loss=4.7325, train_accuracy=0.9766, validation_accuracy=0.9700\n",
      "training step 900/2000: train_loss=7.4465, train_accuracy=0.9766, validation_accuracy=0.9660\n",
      "training step 910/2000: train_loss=0.0000, train_accuracy=1.0000, validation_accuracy=0.9720\n",
      "training step 920/2000: train_loss=11.8262, train_accuracy=0.9844, validation_accuracy=0.9676\n",
      "training step 930/2000: train_loss=21.7801, train_accuracy=0.9609, validation_accuracy=0.9666\n",
      "training step 940/2000: train_loss=17.0294, train_accuracy=0.9609, validation_accuracy=0.9650\n",
      "training step 950/2000: train_loss=43.4554, train_accuracy=0.9609, validation_accuracy=0.9670\n",
      "training step 960/2000: train_loss=10.7070, train_accuracy=0.9609, validation_accuracy=0.9644\n",
      "training step 970/2000: train_loss=0.8093, train_accuracy=0.9922, validation_accuracy=0.9658\n",
      "training step 980/2000: train_loss=6.1539, train_accuracy=0.9844, validation_accuracy=0.9682\n",
      "training step 990/2000: train_loss=12.4212, train_accuracy=0.9844, validation_accuracy=0.9700\n",
      "training step 1000/2000: train_loss=0.0725, train_accuracy=0.9922, validation_accuracy=0.9698\n",
      "training step 1010/2000: train_loss=51.7709, train_accuracy=0.9609, validation_accuracy=0.9712\n",
      "training step 1020/2000: train_loss=0.0000, train_accuracy=1.0000, validation_accuracy=0.9688\n",
      "training step 1030/2000: train_loss=17.1393, train_accuracy=0.9766, validation_accuracy=0.9716\n",
      "training step 1040/2000: train_loss=18.4259, train_accuracy=0.9688, validation_accuracy=0.9666\n",
      "training step 1050/2000: train_loss=12.4364, train_accuracy=0.9688, validation_accuracy=0.9696\n",
      "training step 1060/2000: train_loss=0.0000, train_accuracy=1.0000, validation_accuracy=0.9718\n",
      "training step 1070/2000: train_loss=0.0000, train_accuracy=1.0000, validation_accuracy=0.9726\n",
      "training step 1080/2000: train_loss=9.1653, train_accuracy=0.9766, validation_accuracy=0.9702\n",
      "training step 1090/2000: train_loss=2.3702, train_accuracy=0.9922, validation_accuracy=0.9708\n",
      "training step 1100/2000: train_loss=13.9088, train_accuracy=0.9766, validation_accuracy=0.9668\n",
      "training step 1110/2000: train_loss=1.8600, train_accuracy=0.9844, validation_accuracy=0.9734\n",
      "training step 1120/2000: train_loss=1.1859, train_accuracy=0.9766, validation_accuracy=0.9728\n",
      "training step 1130/2000: train_loss=12.2648, train_accuracy=0.9766, validation_accuracy=0.9712\n",
      "training step 1140/2000: train_loss=17.3712, train_accuracy=0.9688, validation_accuracy=0.9688\n",
      "training step 1150/2000: train_loss=7.2802, train_accuracy=0.9766, validation_accuracy=0.9708\n",
      "training step 1160/2000: train_loss=2.4804, train_accuracy=0.9844, validation_accuracy=0.9708\n",
      "training step 1170/2000: train_loss=11.4654, train_accuracy=0.9844, validation_accuracy=0.9700\n",
      "training step 1180/2000: train_loss=4.9344, train_accuracy=0.9844, validation_accuracy=0.9718\n",
      "training step 1190/2000: train_loss=5.0977, train_accuracy=0.9688, validation_accuracy=0.9670\n",
      "training step 1200/2000: train_loss=0.0000, train_accuracy=1.0000, validation_accuracy=0.9668\n",
      "training step 1210/2000: train_loss=7.7381, train_accuracy=0.9688, validation_accuracy=0.9658\n",
      "training step 1220/2000: train_loss=10.5260, train_accuracy=0.9844, validation_accuracy=0.9712\n",
      "training step 1230/2000: train_loss=15.7643, train_accuracy=0.9766, validation_accuracy=0.9710\n",
      "training step 1240/2000: train_loss=2.1441, train_accuracy=0.9844, validation_accuracy=0.9674\n",
      "training step 1250/2000: train_loss=4.9635, train_accuracy=0.9844, validation_accuracy=0.9710\n",
      "training step 1260/2000: train_loss=0.5803, train_accuracy=0.9922, validation_accuracy=0.9702\n",
      "training step 1270/2000: train_loss=6.4652, train_accuracy=0.9844, validation_accuracy=0.9698\n",
      "training step 1280/2000: train_loss=14.9459, train_accuracy=0.9844, validation_accuracy=0.9664\n",
      "training step 1290/2000: train_loss=1.3642, train_accuracy=0.9844, validation_accuracy=0.9690\n",
      "training step 1300/2000: train_loss=5.9991, train_accuracy=0.9922, validation_accuracy=0.9730\n",
      "training step 1310/2000: train_loss=0.0000, train_accuracy=1.0000, validation_accuracy=0.9730\n",
      "training step 1320/2000: train_loss=13.0651, train_accuracy=0.9844, validation_accuracy=0.9750\n",
      "training step 1330/2000: train_loss=4.4177, train_accuracy=0.9844, validation_accuracy=0.9712\n",
      "training step 1340/2000: train_loss=3.0347, train_accuracy=0.9766, validation_accuracy=0.9754\n",
      "training step 1350/2000: train_loss=4.2380, train_accuracy=0.9922, validation_accuracy=0.9726\n",
      "training step 1360/2000: train_loss=1.7987, train_accuracy=0.9922, validation_accuracy=0.9716\n",
      "training step 1370/2000: train_loss=0.0000, train_accuracy=1.0000, validation_accuracy=0.9662\n",
      "training step 1380/2000: train_loss=0.0000, train_accuracy=1.0000, validation_accuracy=0.9700\n",
      "training step 1390/2000: train_loss=11.5993, train_accuracy=0.9844, validation_accuracy=0.9752\n",
      "training step 1400/2000: train_loss=5.7205, train_accuracy=0.9844, validation_accuracy=0.9750\n",
      "training step 1410/2000: train_loss=17.5126, train_accuracy=0.9766, validation_accuracy=0.9734\n",
      "training step 1420/2000: train_loss=5.2049, train_accuracy=0.9844, validation_accuracy=0.9714\n",
      "training step 1430/2000: train_loss=1.7373, train_accuracy=0.9922, validation_accuracy=0.9706\n",
      "training step 1440/2000: train_loss=1.1190, train_accuracy=0.9922, validation_accuracy=0.9748\n",
      "training step 1450/2000: train_loss=0.5751, train_accuracy=0.9922, validation_accuracy=0.9758\n",
      "training step 1460/2000: train_loss=11.7464, train_accuracy=0.9844, validation_accuracy=0.9722\n",
      "training step 1470/2000: train_loss=10.8858, train_accuracy=0.9766, validation_accuracy=0.9686\n",
      "training step 1480/2000: train_loss=6.0931, train_accuracy=0.9922, validation_accuracy=0.9684\n",
      "training step 1490/2000: train_loss=5.8274, train_accuracy=0.9844, validation_accuracy=0.9704\n",
      "training step 1500/2000: train_loss=12.5775, train_accuracy=0.9688, validation_accuracy=0.9662\n",
      "training step 1510/2000: train_loss=6.7815, train_accuracy=0.9688, validation_accuracy=0.9664\n",
      "training step 1520/2000: train_loss=3.5091, train_accuracy=0.9922, validation_accuracy=0.9692\n",
      "training step 1530/2000: train_loss=1.5852, train_accuracy=0.9922, validation_accuracy=0.9746\n",
      "training step 1540/2000: train_loss=3.6189, train_accuracy=0.9922, validation_accuracy=0.9742\n",
      "training step 1550/2000: train_loss=9.5652, train_accuracy=0.9844, validation_accuracy=0.9746\n",
      "training step 1560/2000: train_loss=3.8029, train_accuracy=0.9844, validation_accuracy=0.9744\n",
      "training step 1570/2000: train_loss=4.7487, train_accuracy=0.9922, validation_accuracy=0.9760\n",
      "training step 1580/2000: train_loss=5.5267, train_accuracy=0.9766, validation_accuracy=0.9734\n",
      "training step 1590/2000: train_loss=16.1918, train_accuracy=0.9688, validation_accuracy=0.9738\n",
      "training step 1600/2000: train_loss=4.5910, train_accuracy=0.9844, validation_accuracy=0.9728\n",
      "training step 1610/2000: train_loss=2.5476, train_accuracy=0.9922, validation_accuracy=0.9694\n",
      "training step 1620/2000: train_loss=15.3670, train_accuracy=0.9766, validation_accuracy=0.9742\n",
      "training step 1630/2000: train_loss=1.5319, train_accuracy=0.9922, validation_accuracy=0.9768\n",
      "training step 1640/2000: train_loss=1.2663, train_accuracy=0.9922, validation_accuracy=0.9738\n",
      "training step 1650/2000: train_loss=3.7705, train_accuracy=0.9922, validation_accuracy=0.9760\n",
      "training step 1660/2000: train_loss=2.3184, train_accuracy=0.9844, validation_accuracy=0.9718\n",
      "training step 1670/2000: train_loss=4.4881, train_accuracy=0.9766, validation_accuracy=0.9756\n",
      "training step 1680/2000: train_loss=2.8073, train_accuracy=0.9844, validation_accuracy=0.9708\n",
      "training step 1690/2000: train_loss=3.4050, train_accuracy=0.9766, validation_accuracy=0.9720\n",
      "training step 1700/2000: train_loss=0.0000, train_accuracy=1.0000, validation_accuracy=0.9724\n",
      "training step 1710/2000: train_loss=0.0000, train_accuracy=1.0000, validation_accuracy=0.9738\n",
      "training step 1720/2000: train_loss=0.0000, train_accuracy=1.0000, validation_accuracy=0.9752\n",
      "training step 1730/2000: train_loss=1.6016, train_accuracy=0.9922, validation_accuracy=0.9758\n",
      "training step 1740/2000: train_loss=0.0000, train_accuracy=1.0000, validation_accuracy=0.9768\n",
      "training step 1750/2000: train_loss=1.9489, train_accuracy=0.9844, validation_accuracy=0.9752\n",
      "training step 1760/2000: train_loss=4.7385, train_accuracy=0.9766, validation_accuracy=0.9734\n",
      "training step 1770/2000: train_loss=0.0000, train_accuracy=1.0000, validation_accuracy=0.9756\n",
      "training step 1780/2000: train_loss=0.0000, train_accuracy=1.0000, validation_accuracy=0.9762\n",
      "training step 1790/2000: train_loss=0.0000, train_accuracy=1.0000, validation_accuracy=0.9760\n",
      "training step 1800/2000: train_loss=0.5891, train_accuracy=0.9922, validation_accuracy=0.9806\n",
      "training step 1810/2000: train_loss=1.7305, train_accuracy=0.9922, validation_accuracy=0.9754\n",
      "training step 1820/2000: train_loss=1.4691, train_accuracy=0.9922, validation_accuracy=0.9746\n",
      "training step 1830/2000: train_loss=5.3050, train_accuracy=0.9844, validation_accuracy=0.9768\n",
      "training step 1840/2000: train_loss=0.9801, train_accuracy=0.9922, validation_accuracy=0.9770\n",
      "training step 1850/2000: train_loss=0.0000, train_accuracy=1.0000, validation_accuracy=0.9748\n",
      "training step 1860/2000: train_loss=8.2698, train_accuracy=0.9844, validation_accuracy=0.9758\n",
      "training step 1870/2000: train_loss=2.8437, train_accuracy=0.9844, validation_accuracy=0.9658\n",
      "training step 1880/2000: train_loss=1.4930, train_accuracy=0.9922, validation_accuracy=0.9786\n",
      "training step 1890/2000: train_loss=4.9218, train_accuracy=0.9922, validation_accuracy=0.9796\n",
      "training step 1900/2000: train_loss=11.7696, train_accuracy=0.9766, validation_accuracy=0.9760\n",
      "training step 1910/2000: train_loss=0.7385, train_accuracy=0.9922, validation_accuracy=0.9772\n",
      "training step 1920/2000: train_loss=0.3903, train_accuracy=0.9844, validation_accuracy=0.9738\n",
      "training step 1930/2000: train_loss=7.9882, train_accuracy=0.9844, validation_accuracy=0.9764\n",
      "training step 1940/2000: train_loss=4.7710, train_accuracy=0.9922, validation_accuracy=0.9780\n",
      "training step 1950/2000: train_loss=0.0000, train_accuracy=1.0000, validation_accuracy=0.9744\n",
      "training step 1960/2000: train_loss=2.2012, train_accuracy=0.9922, validation_accuracy=0.9746\n",
      "training step 1970/2000: train_loss=2.8624, train_accuracy=0.9922, validation_accuracy=0.9752\n",
      "training step 1980/2000: train_loss=0.8144, train_accuracy=0.9922, validation_accuracy=0.9740\n",
      "training step 1990/2000: train_loss=1.8582, train_accuracy=0.9922, validation_accuracy=0.9736\n",
      "training step 2000/2000: train_loss=0.0000, train_accuracy=1.0000, validation_accuracy=0.9708\n",
      "Optimization Finished!\n"
     ]
    }
   ],
   "source": [
    "# ready to train model\n",
    "evaluation_states = {\"train_loss\": [], \"validation_loss\": [], \"train_accuracy\": [], \"validation_accuracy\": []}\n",
    "with tf.Session() as sess:\n",
    "    sess.run(init)\n",
    "    step = 1\n",
    "    for i in range(training_iters):\n",
    "        train_x, train_y = mnist.train.next_batch(batch_size=batch_size)\n",
    "        sess.run(optimizer, feed_dict={x:train_x, y:train_y, keep_prop:dropout_rate})\n",
    "        \n",
    "        if step%display_step == 0: # print train_loss, validation_loss, train_accuracy, validataion_accuracy.\n",
    "            train_loss_val, train_acc_val = sess.run([loss, accuracy], feed_dict={x:train_x, y:train_y, keep_prop:1.0})\n",
    "            valid_loss_val, valid_acc_val = sess.run([loss, accuracy], feed_dict={x:mnist.validation.images, y:mnist.validation.labels, keep_prop:1.0})\n",
    "            print(\"training step {}/{}: train_loss={:0.4f}, train_accuracy={:0.4f}, validation_accuracy={:0.4f}\".format(step, training_iters, train_loss_val, train_acc_val, valid_acc_val))\n",
    "            evaluation_states[\"train_loss\"].append(train_loss_val)\n",
    "            evaluation_states[\"validation_loss\"].append(valid_loss_val)\n",
    "            evaluation_states[\"train_accuracy\"].append(train_acc_val)\n",
    "            evaluation_states[\"validation_accuracy\"].append(valid_acc_val)\n",
    "        step += 1\n",
    "    print (\"Optimization Finished!\")\n",
    "    \n",
    "    # Save Model\n",
    "    saver = tf.train.Saver()\n",
    "    save_path = saver.save(sess, save_model_path)"
   ]
  },
  {
   "cell_type": "code",
   "execution_count": 15,
   "metadata": {
    "collapsed": false,
    "deletable": true,
    "editable": true
   },
   "outputs": [
    {
     "data": {
      "text/plain": [
       "<matplotlib.legend.Legend at 0x7f8532f06668>"
      ]
     },
     "execution_count": 15,
     "metadata": {},
     "output_type": "execute_result"
    },
    {
     "data": {
      "image/png": "[encoded data removed]",
      "text/plain": [
       "<matplotlib.figure.Figure at 0x7f8539a11f98>"
      ]
     },
     "metadata": {},
     "output_type": "display_data"
    }
   ],
   "source": [
    "#plot evaluation states\n",
    "import matplotlib.pyplot as plt\n",
    "%matplotlib inline\n",
    "\n",
    "fig = plt.figure(figsize=(16, 4))\n",
    "ax1 = fig.add_subplot(121)\n",
    "\n",
    "ax1.plot(evaluation_states['train_loss'], label=\"train_loss\")\n",
    "ax1.plot(evaluation_states['validation_loss'], label=\"validation_loss\")\n",
    "ax1.legend(loc=\"upper left\")\n",
    "\n",
    "ax2 = fig.add_subplot(122)\n",
    "ax2.plot(evaluation_states['train_accuracy'], label=\"train_accuracy\")\n",
    "ax2.plot(evaluation_states['validation_accuracy'], label=\"validation_accuracy\")\n",
    "ax2.legend(loc=\"upper left\")"
   ]
  },
  {
   "cell_type": "code",
   "execution_count": 16,
   "metadata": {
    "collapsed": false,
    "deletable": true,
    "editable": true
   },
   "outputs": [
    {
     "name": "stdout",
     "output_type": "stream",
     "text": [
      "Testing Accuracy: 0.969\n"
     ]
    }
   ],
   "source": [
    "# Calculate accuracy mnist test images\n",
    "loaded_graph = tf.Graph()\n",
    "with tf.Session(graph=loaded_graph) as sess:\n",
    "    # Load model\n",
    "    loader = tf.train.import_meta_graph(save_model_path + '.meta')\n",
    "    loader.restore(sess, save_model_path)\n",
    "\n",
    "    # Get Tensors from loaded model\n",
    "    loaded_x = loaded_graph.get_tensor_by_name('x:0')\n",
    "    loaded_y = loaded_graph.get_tensor_by_name('y:0')\n",
    "    loaded_keep_prob = loaded_graph.get_tensor_by_name('keep_prop:0')\n",
    "    loaded_acc = loaded_graph.get_tensor_by_name('accuracy:0')\n",
    "    \n",
    "    test_acc = sess.run(loaded_acc, feed_dict={loaded_x: mnist.test.images,\n",
    "                                  loaded_y: mnist.test.labels,\n",
    "                                  loaded_keep_prob: 1.0})\n",
    "\n",
    "    print (\"Testing Accuracy:\", test_acc)"
   ]
  }
 ],
 "metadata": {
  "anaconda-cloud": {},
  "kernelspec": {
   "display_name": "Python [conda env:tensorflow]",
   "language": "python",
   "name": "conda-env-tensorflow-py"
  },
  "language_info": {
   "codemirror_mode": {
    "name": "ipython",
    "version": 3
   },
   "file_extension": ".py",
   "mimetype": "text/x-python",
   "name": "python",
   "nbconvert_exporter": "python",
   "pygments_lexer": "ipython3",
   "version": "3.5.2"
  }
 },
 "nbformat": 4,
 "nbformat_minor": 2
}
