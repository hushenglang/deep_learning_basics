{
 "cells": [
  {
   "cell_type": "markdown",
   "metadata": {},
   "source": [
    "# Gradient Descent \n",
    "This notebook will show you the underlying implementation of Gradient Descent for Linear function and Sigmoid function.\n",
    "\n",
    "If you have any suggestions, welcome to contact [hushenglang@gmail.com](), or pull request on github."
   ]
  },
  {
   "cell_type": "markdown",
   "metadata": {},
   "source": [
    "## Linear Regression of Gradient Descent"
   ]
  },
  {
   "cell_type": "code",
   "execution_count": 1,
   "metadata": {
    "collapsed": true
   },
   "outputs": [],
   "source": [
    "import numpy as np\n",
    "import matplotlib.pyplot as plt\n",
    "%matplotlib inline"
   ]
  },
  {
   "cell_type": "markdown",
   "metadata": {},
   "source": [
    "### linear equation\n",
    "> y = wx + b \n",
    "\n",
    "> w is slope, b is y-intercept\n",
    "\n",
    "### error function - mean squared error\n",
    "should be aware that there are lots of error function for different tasks, **mean squared error** function is the one\n",
    "\n",
    "we did not choose **sum squared error**, because if using a lot of data, summing up all the weight steps can lead to really large updates that make the gradient descent diverge.\n",
    "\n",
    "for linear regression\n",
    "\n",
    "<img src=\"asset/mean_squared_error_img.png\",width=200,height=200, style=\"float: left;\">"
   ]
  },
  {
   "cell_type": "code",
   "execution_count": 2,
   "metadata": {
    "collapsed": true
   },
   "outputs": [],
   "source": [
    "# compute mean squared error\n",
    "def compute_error_for_line_given_points(b, w, points):\n",
    "    totalError = 0;\n",
    "    n = len(points)\n",
    "    for i in range(n):\n",
    "        x = points[i,0]\n",
    "        y = points[i,1]\n",
    "        y_prime = (w*x+b)\n",
    "        totalError += (y-y_prime)**2\n",
    "    return totalError / float(n)"
   ]
  },
  {
   "cell_type": "markdown",
   "metadata": {},
   "source": [
    "### gradient descent\n",
    "there are 3 variant of gradient descent algorithm: **Batch Gradient Descent**,  **Stochastic Gradient Descent**,  **Mini-batch Gradient Descent**.\n",
    "\n",
    "for details you can refer to http://sebastianruder.com/optimizing-gradient-descent/index.html#batchgradientdescent\n",
    "\n",
    ">In this notebook, we will implement 2 variants: **Batch Gradient Descent** and **Stochastic Gradient Descent**.\n",
    "\n",
    "Using [chain rule](https://en.wikipedia.org/wiki/Chain_rule) to calculate [partial derivative](https://en.wikipedia.org/wiki/Partial_derivative)\n",
    "\n",
    "<img src=\"asset/gradient_descent_linear_equation_2.png\",width=350,height=350, style=\"float: left;\">\n",
    "<img src=\"asset/gradient_descent_linear_equation_1.png\",width=600,height=600, style=\"float: left;\">\n",
    "<img src=\"asset/gradient_descent_demo.png\",width=800,height=800, style=\"float: left;\">\n",
    "\n",
    "\n",
    "\n"
   ]
  },
  {
   "cell_type": "markdown",
   "metadata": {},
   "source": [
    "### **Batch Gradient Descent VS Stochastic Gradient Descent** ?\n",
    "Batch gradient descent computes the gradient using the whole dataset. \n",
    "\n",
    "Stochastic gradient descent (SGD) computes the gradient using a single sample.\n",
    "\n",
    "In practice, nobody uses Batch Gradient Descent. It's simply too computationally expensive for not that much of a gain. consider minibatch SGD.\n"
   ]
  },
  {
   "cell_type": "markdown",
   "metadata": {},
   "source": [
    "> in code, batch gradient descent is like below:\n",
    "\n",
    "<img src=\"asset/batch_gradient_descent.png\",width=550,height=550, style=\"float: left;\">\n"
   ]
  },
  {
   "cell_type": "code",
   "execution_count": 3,
   "metadata": {
    "collapsed": true
   },
   "outputs": [],
   "source": [
    "# Batch gradient descent\n",
    "def step_batch_gradient(b_current, w_current, points, learningRate):\n",
    "    w_gradient = 0\n",
    "    b_gradient = 0\n",
    "    n = len(points)\n",
    "    \n",
    "    # compute gradient of all points with partial derivative\n",
    "    for i in range(n):\n",
    "        x = points[i,0]\n",
    "        y = points[i,1]\n",
    "        w_gradient += (2/n)*(-x)*(y-(w_current*x+b_current))\n",
    "        b_gradient += (2/n)*(-1)*(y-(w_current*x+b_current))\n",
    "    \n",
    "    w_new = w_current - learningRate*w_gradient\n",
    "    b_new = b_current - learningRate*b_gradient\n",
    "    \n",
    "    return [w_new, b_new]"
   ]
  },
  {
   "cell_type": "markdown",
   "metadata": {},
   "source": [
    "> in code, stochastic gradient descent is like below:\n",
    "\n",
    "<img src=\"asset/stochastic_gradient descent.png\",width=550,height=550, style=\"float: left;\">"
   ]
  },
  {
   "cell_type": "code",
   "execution_count": 4,
   "metadata": {
    "collapsed": true
   },
   "outputs": [],
   "source": [
    "# Stochastic gradient descent\n",
    "def step_stochatic_gradient(b_current, w_current, points, learningRate):\n",
    "    w_gradient = 0\n",
    "    b_gradient = 0\n",
    "    w_new = w_current\n",
    "    b_new = b_current\n",
    "    n = len(points)\n",
    "    \n",
    "    # compute gradient applied on each point with partial derivative\n",
    "    for i in range(n):\n",
    "        x = points[i,0]\n",
    "        y = points[i,1]\n",
    "        w_gradient += (2/n)*(-x)*(y-(w_current*x+b_current))\n",
    "        b_gradient += (2/n)*(-1)*(y-(w_current*x+b_current))\n",
    "        w_new = w_new - learningRate*w_gradient\n",
    "        b_new = w_new - learningRate*b_gradient\n",
    "    \n",
    "    return [w_new, b_new]"
   ]
  },
  {
   "cell_type": "markdown",
   "metadata": {},
   "source": [
    "### training process \n",
    "it is to minize the error function and get the best fit line"
   ]
  },
  {
   "cell_type": "code",
   "execution_count": 5,
   "metadata": {
    "collapsed": true
   },
   "outputs": [],
   "source": [
    "# training process to minize error function with batch gradient descent\n",
    "def batch_gradient_descent_runner(points, starting_b, starting_w, learning_rate, num_iterations, loss_values):\n",
    "    b = starting_b\n",
    "    w = starting_w\n",
    "    for i in range(num_iterations):\n",
    "        b, w = step_batch_gradient(b, w, np.array(points), learning_rate)\n",
    "        loss_values.append(compute_error_for_line_given_points(b, w, points))\n",
    "    return [b, w]"
   ]
  },
  {
   "cell_type": "code",
   "execution_count": 6,
   "metadata": {
    "collapsed": true
   },
   "outputs": [],
   "source": [
    "# training process to minize error function with stochastic gradient descent\n",
    "def stochastic_gradient_descent_runner(points, starting_b, starting_w, learning_rate, num_iterations, loss_values):\n",
    "    b = starting_b\n",
    "    w = starting_w\n",
    "    for i in range(num_iterations):\n",
    "        b, w = step_stochatic_gradient(b, w, np.array(points), learning_rate)\n",
    "        loss_values.append(compute_error_for_line_given_points(b, w, points))\n",
    "    return [b, w]"
   ]
  },
  {
   "cell_type": "code",
   "execution_count": 7,
   "metadata": {
    "collapsed": false
   },
   "outputs": [
    {
     "name": "stdout",
     "output_type": "stream",
     "text": [
      "Starting batch gradient descent at b = 0, m = 0, error = 5565.107834483211\n",
      "Running...\n",
      "After 50 iterations b = 1.4510195572404034, m = 1.4510680113390042, error = 111.87217649923548\n",
      "\n",
      "Starting stochastic gradient descent at b = 0, m = 0, error = 5565.107834483211\n",
      "Running...\n",
      "After 50 iterations b = 1.4227968974861496, m = 1.422800206131609, error = 113.94151915627774\n"
     ]
    },
    {
     "data": {
      "image/png": "[encoded data removed]",
      "text/plain": [
       "<matplotlib.figure.Figure at 0x10aaccb00>"
      ]
     },
     "metadata": {},
     "output_type": "display_data"
    }
   ],
   "source": [
    "def run():\n",
    "    points = np.genfromtxt(\"data/data_linear_regression.csv\", delimiter=\",\")\n",
    "    \n",
    "    # using batch gradient descent\n",
    "    loss_values = []\n",
    "    learning_rate = 0.0001\n",
    "    initial_b = 0 # initial y-intercept guess\n",
    "    initial_w = 0 # initial slope guess\n",
    "    num_iterations = 50\n",
    "    print(\"Starting batch gradient descent at b = {0}, m = {1}, error = {2}\".format(initial_b, initial_w, compute_error_for_line_given_points(initial_b, initial_w, points)))\n",
    "    print(\"Running...\")\n",
    "    [b, w] = batch_gradient_descent_runner(points, initial_b, initial_w, learning_rate, num_iterations, loss_values)\n",
    "    print(\"After {0} iterations b = {1}, m = {2}, error = {3}\".format(num_iterations, b, w, compute_error_for_line_given_points(b, w, points)))\n",
    "    plt.plot(loss_values, label=\"batch\")\n",
    "    \n",
    "    print(\"\")\n",
    "    # using stochastic gradient descent\n",
    "    loss_values = []\n",
    "    learning_rate = 0.000001\n",
    "    initial_b = 0 # initial y-intercept guess\n",
    "    initial_w = 0 # initial slope guess\n",
    "    num_iterations = 50\n",
    "    print(\"Starting stochastic gradient descent at b = {0}, m = {1}, error = {2}\".format(initial_b, initial_w, compute_error_for_line_given_points(initial_b, initial_w, points)))\n",
    "    print(\"Running...\")\n",
    "    [b, w] = stochastic_gradient_descent_runner(points, initial_b, initial_w, learning_rate, num_iterations, loss_values)\n",
    "    print(\"After {0} iterations b = {1}, m = {2}, error = {3}\".format(num_iterations, b, w, compute_error_for_line_given_points(b, w, points)))\n",
    "    plt.plot(loss_values, label=\"stochastic\")\n",
    "    \n",
    "    plt.legend(loc=\"upper right\")\n",
    "    plt.xlabel(\"iteration\")\n",
    "    plt.ylabel(\"error\")\n",
    "run()"
   ]
  },
  {
   "cell_type": "markdown",
   "metadata": {},
   "source": [
    "## Sigmoid Classification of Gradient Descent with simplest NN"
   ]
  },
  {
   "cell_type": "code",
   "execution_count": 8,
   "metadata": {
    "collapsed": false
   },
   "outputs": [],
   "source": [
    "import numpy as np\n",
    "import pandas as pd\n",
    "import matplotlib.pyplot as plt\n",
    "%matplotlib inline"
   ]
  },
  {
   "cell_type": "markdown",
   "metadata": {},
   "source": [
    "### data preparation"
   ]
  },
  {
   "cell_type": "code",
   "execution_count": 10,
   "metadata": {
    "collapsed": false
   },
   "outputs": [],
   "source": [
    "# Make dummy variables for rank, Convert categorical variable into dummy/indicator variables\n",
    "admissions = pd.read_csv('data/data_sigmoid_classification.csv')\n",
    "data = pd.concat([admissions, pd.get_dummies(admissions['rank'], prefix='rank')], axis=1)\n",
    "data = data.drop('rank', axis=1)\n",
    "\n",
    "# Standarize features\n",
    "for field in ['gre', 'gpa']:\n",
    "    mean, std = data[field].mean(), data[field].std()\n",
    "    data.loc[:,field] = (data[field]-mean)/std\n",
    "    \n",
    "# Split off random 10% of the data for testing\n",
    "np.random.seed(42)\n",
    "sample = np.random.choice(data.index, size=int(len(data)*0.9), replace=False)\n",
    "data, test_data = data.ix[sample], data.drop(sample)\n",
    "\n",
    "# Split into features and targets\n",
    "features, targets = data.drop('admit', axis=1), data['admit']\n",
    "features_test, targets_test = test_data.drop('admit', axis=1), test_data['admit']"
   ]
  },
  {
   "cell_type": "markdown",
   "metadata": {},
   "source": [
    "\n",
    "<img src=\"asset/sigmoid_gradient.png\",width=550,height=550, style=\"float: left;\">"
   ]
  },
  {
   "cell_type": "code",
   "execution_count": 11,
   "metadata": {
    "collapsed": true
   },
   "outputs": [],
   "source": [
    "# Defining the sigmoid function for activations\n",
    "def sigmoid(x):\n",
    "    return 1/(1+np.exp(-x))\n",
    "\n",
    "# Derivative of the sigmoid function\n",
    "def sigmoid_prime(x):\n",
    "    return sigmoid(x) * (1 - sigmoid(x))"
   ]
  },
  {
   "cell_type": "code",
   "execution_count": 24,
   "metadata": {
    "collapsed": true
   },
   "outputs": [],
   "source": [
    "# loss function using mean squ\n",
    "def batch_gradient_descent(weights, features, targets, learnrate):\n",
    "    del_w = np.zeros(weights.shape)\n",
    "    # Loop through all records, x is the input, y is the target\n",
    "    for x, y in zip(features.values, targets):\n",
    "        # Calculate the output\n",
    "        output = sigmoid(np.dot(x,weights))\n",
    "        # Calculate change in weights. we can also call sigmoid_prime instead of \"output * (1-output)\"\n",
    "        # Simultaneously calculate all features in one data \n",
    "        del_w += (2/n_records) * (y-output) * output * (1-output) * x\n",
    "\n",
    "        # Update weights\n",
    "    weights += learnrate * del_w"
   ]
  },
  {
   "cell_type": "markdown",
   "metadata": {},
   "source": [
    "### training process"
   ]
  },
  {
   "cell_type": "code",
   "execution_count": 40,
   "metadata": {
    "collapsed": false
   },
   "outputs": [
    {
     "name": "stdout",
     "output_type": "stream",
     "text": [
      "Train loss:  0.245979456349\n",
      "Train loss:  0.241119268558\n",
      "Train loss:  0.237008000385\n",
      "Train loss:  0.233489933426\n",
      "Train loss:  0.23044256818\n",
      "Train loss:  0.227772089607\n",
      "Train loss:  0.22540744723\n",
      "Train loss:  0.223294879997\n",
      "Train loss:  0.221393459701\n",
      "Train loss:  0.219671680965\n"
     ]
    }
   ],
   "source": [
    "n_records, n_features = features.shape\n",
    "weights = np.random.normal(scale=1 / n_features**.5, size=n_features)\n",
    "# Neural Network hyperparameters\n",
    "epochs = 1000\n",
    "learnrate = 0.01\n",
    "\n",
    "def train():\n",
    "    for e in range(epochs):\n",
    "        batch_gradient_descent(weights, features, targets, learnrate)\n",
    "        # Printing out the mean square error on the training set\n",
    "        if e % (epochs / 10) == 0:\n",
    "            out = sigmoid(np.dot(features, weights))\n",
    "            loss = np.mean((out - targets) ** 2)           \n",
    "            print(\"Train loss: \", loss)\n",
    "\n",
    "train()"
   ]
  },
  {
   "cell_type": "code",
   "execution_count": 41,
   "metadata": {
    "collapsed": false
   },
   "outputs": [
    {
     "name": "stdout",
     "output_type": "stream",
     "text": [
      "Prediction accuracy: 0.750\n"
     ]
    }
   ],
   "source": [
    "# Calculate accuracy on test data\n",
    "tes_out = sigmoid(np.dot(features_test, weights))\n",
    "predictions = tes_out > 0.5\n",
    "accuracy = np.mean(predictions == targets_test)\n",
    "print(\"Prediction accuracy: {:.3f}\".format(accuracy))"
   ]
  }
 ],
 "metadata": {
  "kernelspec": {
   "display_name": "Python [conda env:tensorflow]",
   "language": "python",
   "name": "conda-env-tensorflow-py"
  },
  "language_info": {
   "codemirror_mode": {
    "name": "ipython",
    "version": 3
   },
   "file_extension": ".py",
   "mimetype": "text/x-python",
   "name": "python",
   "nbconvert_exporter": "python",
   "pygments_lexer": "ipython3",
   "version": "3.5.2"
  }
 },
 "nbformat": 4,
 "nbformat_minor": 2
}
