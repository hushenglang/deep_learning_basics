{
 "cells": [
  {
   "cell_type": "markdown",
   "metadata": {},
   "source": [
    "# Gradient Descent \n",
    "This notebook will show you the underlying implementation of Gradient Descent for Linear function and Sigmoid function.\n",
    "\n",
    "If you have any suggestions, welcome to contact [hushenglang@gmail.com](), or pull request on github."
   ]
  },
  {
   "cell_type": "markdown",
   "metadata": {},
   "source": [
    "## Linear Regression of Gradient Descent"
   ]
  },
  {
   "cell_type": "code",
   "execution_count": 9,
   "metadata": {
    "collapsed": true
   },
   "outputs": [],
   "source": [
    "import numpy as np\n",
    "import matplotlib.pyplot as plt\n",
    "%matplotlib inline"
   ]
  },
  {
   "cell_type": "markdown",
   "metadata": {},
   "source": [
    "### linear equation\n",
    "> y = wx + b \n",
    "\n",
    "> w is slope, b is y-intercept\n",
    "\n",
    "### error function - mean squared error\n",
    "should be aware that there are lots of error function for different tasks, **mean squared error** function is the one for linear regression\n",
    "<img src=\"asset/mean_squared_error_img.png\",width=200,height=200, style=\"float: left;\">"
   ]
  },
  {
   "cell_type": "code",
   "execution_count": 2,
   "metadata": {
    "collapsed": true
   },
   "outputs": [],
   "source": [
    "# compute mean squared error\n",
    "def compute_error_for_line_given_points(b, w, points):\n",
    "    totalError = 0;\n",
    "    n = len(points)\n",
    "    for i in range(n):\n",
    "        x = points[i,0]\n",
    "        y = points[i,1]\n",
    "        y_prime = (w*x+b)\n",
    "        totalError += (y-y_prime)**2\n",
    "    return totalError / float(n)"
   ]
  },
  {
   "cell_type": "markdown",
   "metadata": {},
   "source": [
    "### gradient descent\n",
    "there are 3 variant of gradient descent algorithm: **Batch Gradient Descent**,  **Stochastic Gradient Descent**,  **Mini-batch Gradient Descent**.\n",
    "\n",
    "for details you can refer to http://sebastianruder.com/optimizing-gradient-descent/index.html#batchgradientdescent\n",
    "\n",
    ">In this notebook, we will implement 2 variants: **Batch Gradient Descent** and **Stochastic Gradient Descent**.\n",
    "\n",
    "Using [chain rule](https://en.wikipedia.org/wiki/Chain_rule) to calculate [partial derivative](https://en.wikipedia.org/wiki/Partial_derivative)\n",
    "\n",
    "<img src=\"asset/gradient_descent_linear_equation_2.png\",width=350,height=350, style=\"float: left;\">\n",
    "<img src=\"asset/gradient_descent_linear_equation_1.png\",width=600,height=600, style=\"float: left;\">"
   ]
  },
  {
   "cell_type": "markdown",
   "metadata": {},
   "source": [
    "### **Batch Gradient Descent VS Stochastic Gradient Descent** ?\n",
    "Batch gradient descent computes the gradient using the whole dataset. \n",
    "\n",
    "Stochastic gradient descent (SGD) computes the gradient using a single sample.\n",
    "\n",
    "In practice, nobody uses Batch Gradient Descent. It's simply too computationally expensive for not that much of a gain. consider minibatch SGD.\n"
   ]
  },
  {
   "cell_type": "markdown",
   "metadata": {},
   "source": [
    "> in code, batch gradient descent is like below:\n",
    "\n",
    "<img src=\"asset/batch_gradient_descent.png\",width=550,height=550, style=\"float: left;\">\n"
   ]
  },
  {
   "cell_type": "code",
   "execution_count": 3,
   "metadata": {
    "collapsed": true
   },
   "outputs": [],
   "source": [
    "# Batch gradient descent\n",
    "def step_batch_gradient(b_current, w_current, points, learningRate):\n",
    "    w_gradient = 0\n",
    "    b_gradient = 0\n",
    "    n = len(points)\n",
    "    \n",
    "    # compute gradient of all points with partial derivative\n",
    "    for i in range(n):\n",
    "        x = points[i,0]\n",
    "        y = points[i,1]\n",
    "        w_gradient += (2/n)*(-x)*(y-(w_current*x+b_current))\n",
    "        b_gradient += (2/n)*(-1)*(y-(w_current*x+b_current))\n",
    "    \n",
    "    w_new = w_current - learningRate*w_gradient\n",
    "    b_new = b_current - learningRate*b_gradient\n",
    "    \n",
    "    return [w_new, b_new]"
   ]
  },
  {
   "cell_type": "markdown",
   "metadata": {},
   "source": [
    "> in code, stochastic gradient descent is like below:\n",
    "\n",
    "<img src=\"asset/stochastic_gradient descent.png\",width=550,height=550, style=\"float: left;\">"
   ]
  },
  {
   "cell_type": "code",
   "execution_count": 4,
   "metadata": {
    "collapsed": true
   },
   "outputs": [],
   "source": [
    "# Stochastic gradient descent\n",
    "def step_stochatic_gradient(b_current, w_current, points, learningRate):\n",
    "    w_gradient = 0\n",
    "    b_gradient = 0\n",
    "    w_new = w_current\n",
    "    b_new = b_current\n",
    "    n = len(points)\n",
    "    \n",
    "    # compute gradient applied on each point with partial derivative\n",
    "    for i in range(n):\n",
    "        x = points[i,0]\n",
    "        y = points[i,1]\n",
    "        w_gradient += (2/n)*(-x)*(y-(w_current*x+b_current))\n",
    "        b_gradient += (2/n)*(-1)*(y-(w_current*x+b_current))\n",
    "        w_new = w_new - learningRate*w_gradient\n",
    "        b_new = w_new - learningRate*b_gradient\n",
    "    \n",
    "    return [w_new, b_new]"
   ]
  },
  {
   "cell_type": "markdown",
   "metadata": {},
   "source": [
    "### training process \n",
    "it is to minize the error function and get the best fit line"
   ]
  },
  {
   "cell_type": "code",
   "execution_count": 5,
   "metadata": {
    "collapsed": true
   },
   "outputs": [],
   "source": [
    "# training process to minize error function with batch gradient descent\n",
    "def batch_gradient_descent_runner(points, starting_b, starting_w, learning_rate, num_iterations, loss_values):\n",
    "    b = starting_b\n",
    "    w = starting_w\n",
    "    for i in range(num_iterations):\n",
    "        b, w = step_batch_gradient(b, w, np.array(points), learning_rate)\n",
    "        loss_values.append(compute_error_for_line_given_points(b, w, points))\n",
    "    return [b, w]"
   ]
  },
  {
   "cell_type": "code",
   "execution_count": 6,
   "metadata": {
    "collapsed": true
   },
   "outputs": [],
   "source": [
    "# training process to minize error function with stochastic gradient descent\n",
    "def stochastic_gradient_descent_runner(points, starting_b, starting_w, learning_rate, num_iterations, loss_values):\n",
    "    b = starting_b\n",
    "    w = starting_w\n",
    "    for i in range(num_iterations):\n",
    "        b, w = step_stochatic_gradient(b, w, np.array(points), learning_rate)\n",
    "        loss_values.append(compute_error_for_line_given_points(b, w, points))\n",
    "    return [b, w]"
   ]
  },
  {
   "cell_type": "code",
   "execution_count": 18,
   "metadata": {
    "collapsed": false
   },
   "outputs": [
    {
     "name": "stdout",
     "output_type": "stream",
     "text": [
      "Starting batch gradient descent at b = 0, m = 0, error = 5565.107834483211\n",
      "Running...\n",
      "After 50 iterations b = 1.4510195572404034, m = 1.4510680113390042, error = 111.87217649923548\n",
      "\n",
      "Starting stochastic gradient descent at b = 0, m = 0, error = 5565.107834483211\n",
      "Running...\n",
      "After 50 iterations b = 1.4227968974861496, m = 1.422800206131609, error = 113.94151915627774\n"
     ]
    },
    {
     "data": {
      "image/png": "[encoded data removed]",
      "text/plain": [
       "<matplotlib.figure.Figure at 0x10e3290b8>"
      ]
     },
     "metadata": {},
     "output_type": "display_data"
    }
   ],
   "source": [
    "def run():\n",
    "    points = np.genfromtxt(\"data/data_linear_regression.csv\", delimiter=\",\")\n",
    "    \n",
    "    # using batch gradient descent\n",
    "    loss_values = []\n",
    "    learning_rate = 0.0001\n",
    "    initial_b = 0 # initial y-intercept guess\n",
    "    initial_w = 0 # initial slope guess\n",
    "    num_iterations = 50\n",
    "    print(\"Starting batch gradient descent at b = {0}, m = {1}, error = {2}\".format(initial_b, initial_w, compute_error_for_line_given_points(initial_b, initial_w, points)))\n",
    "    print(\"Running...\")\n",
    "    [b, w] = batch_gradient_descent_runner(points, initial_b, initial_w, learning_rate, num_iterations, loss_values)\n",
    "    print(\"After {0} iterations b = {1}, m = {2}, error = {3}\".format(num_iterations, b, w, compute_error_for_line_given_points(b, w, points)))\n",
    "    plt.plot(loss_values, label=\"batch\")\n",
    "    \n",
    "    print(\"\")\n",
    "    # using stochastic gradient descent\n",
    "    loss_values = []\n",
    "    learning_rate = 0.000001\n",
    "    initial_b = 0 # initial y-intercept guess\n",
    "    initial_w = 0 # initial slope guess\n",
    "    num_iterations = 50\n",
    "    print(\"Starting stochastic gradient descent at b = {0}, m = {1}, error = {2}\".format(initial_b, initial_w, compute_error_for_line_given_points(initial_b, initial_w, points)))\n",
    "    print(\"Running...\")\n",
    "    [b, w] = stochastic_gradient_descent_runner(points, initial_b, initial_w, learning_rate, num_iterations, loss_values)\n",
    "    print(\"After {0} iterations b = {1}, m = {2}, error = {3}\".format(num_iterations, b, w, compute_error_for_line_given_points(b, w, points)))\n",
    "    plt.plot(loss_values, label=\"stochastic\")\n",
    "    \n",
    "    plt.legend(loc=\"upper right\")\n",
    "run()"
   ]
  },
  {
   "cell_type": "markdown",
   "metadata": {},
   "source": [
    "## Sigmoid Classification of Gradient Descent with simplest NN"
   ]
  }
 ],
 "metadata": {
  "kernelspec": {
   "display_name": "Python [conda env:tensorflow]",
   "language": "python",
   "name": "conda-env-tensorflow-py"
  },
  "language_info": {
   "codemirror_mode": {
    "name": "ipython",
    "version": 3
   },
   "file_extension": ".py",
   "mimetype": "text/x-python",
   "name": "python",
   "nbconvert_exporter": "python",
   "pygments_lexer": "ipython3",
   "version": "3.5.2"
  }
 },
 "nbformat": 4,
 "nbformat_minor": 2
}
