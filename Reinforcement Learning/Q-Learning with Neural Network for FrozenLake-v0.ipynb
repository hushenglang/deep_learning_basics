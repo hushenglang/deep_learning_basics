{
 "cells": [
  {
   "cell_type": "markdown",
   "metadata": {},
   "source": [
    "# Q-Learning with Neural Network for FrozenLake-v0\n",
    " using a one-layer network which takes the state encoded in a one-hot vector (1x16), and produces a vector of 4 Q-values, one for each action. Maintaining the Q-vaules by Neural Network.\n",
    "reference: https://medium.com/emergent-future/simple-reinforcement-learning-with-tensorflow-part-0-q-learning-with-tables-and-neural-networks-d195264329d0"
   ]
  },
  {
   "cell_type": "code",
   "execution_count": 1,
   "metadata": {
    "collapsed": true
   },
   "outputs": [],
   "source": [
    "import gym\n",
    "import numpy as np\n",
    "import random\n",
    "import tensorflow as tf\n",
    "import matplotlib.pyplot as plt\n",
    "%matplotlib inline"
   ]
  },
  {
   "cell_type": "code",
   "execution_count": 2,
   "metadata": {
    "collapsed": false
   },
   "outputs": [
    {
     "name": "stderr",
     "output_type": "stream",
     "text": [
      "[2017-05-08 11:50:16,652] Making new env: FrozenLake-v0\n"
     ]
    }
   ],
   "source": [
    "env = gym.make('FrozenLake-v0')"
   ]
  },
  {
   "cell_type": "code",
   "execution_count": 3,
   "metadata": {
    "collapsed": true
   },
   "outputs": [],
   "source": [
    "state_num = env.observation_space.n #total state number\n",
    "action_num = env.action_space.n #total action number\n",
    "lr = 0.01"
   ]
  },
  {
   "cell_type": "code",
   "execution_count": 4,
   "metadata": {
    "collapsed": true
   },
   "outputs": [],
   "source": [
    "#Clears the default graph stack and resets the global default graph.\n",
    "tf.reset_default_graph()"
   ]
  },
  {
   "cell_type": "code",
   "execution_count": 5,
   "metadata": {
    "collapsed": false
   },
   "outputs": [],
   "source": [
    "#These lines establish the feed-forward part of the network used to choose actions\n",
    "input_ = tf.placeholder(tf.float32, [1, state_num])\n",
    "W = tf.Variable(tf.random_uniform([state_num, action_num],0,0.01))\n",
    "Qout = tf.matmul(input_, W) #Qout is the Q-values vector\n",
    "predict = tf.argmax(Qout, 1) #find the most possibility action for the next action."
   ]
  },
  {
   "cell_type": "code",
   "execution_count": 6,
   "metadata": {
    "collapsed": false
   },
   "outputs": [],
   "source": [
    "#Below we obtain the loss by taking the sum of squares difference between the target and prediction Q values.\n",
    "target_ = tf.placeholder(tf.float32,[1, action_num])\n",
    "loss = tf.reduce_sum(tf.square(target_-Qout))\n",
    "trainer = tf.train.GradientDescentOptimizer(learning_rate=lr).minimize(loss)"
   ]
  },
  {
   "cell_type": "markdown",
   "metadata": {},
   "source": [
    "### Train Network"
   ]
  },
  {
   "cell_type": "code",
   "execution_count": 7,
   "metadata": {
    "collapsed": true
   },
   "outputs": [],
   "source": [
    "# training the agent for one epcho\n",
    "def trainAgent(sess, state_inputs, jList, rList, lossList, y, e):\n",
    "    #Reset environment and get first new observation\n",
    "    s = env.reset()\n",
    "    rAll = 0\n",
    "    d = False\n",
    "    j = 0\n",
    "    #The Q-network\n",
    "    while j<999:\n",
    "        j+=1\n",
    "        #Choose an action by greedily (with e chance of random action) from the Q-network\n",
    "        a, allQ_vals= sess.run([predict, Qout], feed_dict={input_:[state_inputs[s]]})\n",
    "        if np.random.rand(1) < e:\n",
    "            a[0] = env.action_space.sample()\n",
    "        #Get new state and reward from environment\n",
    "        s1,r,d,_ = env.step(a[0])\n",
    "        #Obtain the Q' values by feeding the new state through our network\n",
    "        Q1 = sess.run(Qout,feed_dict={input_:[state_inputs[s1]]})\n",
    "        #Obtain maxQ' and set our target value for chosen action.\n",
    "        maxQ1 = np.max(Q1)\n",
    "        targetQ = allQ_vals\n",
    "        targetQ[0,a] = r + y*maxQ1 #note that loss is only applied for action \"a\".\n",
    "        _, loss_val = sess.run([trainer, loss], feed_dict={input_:[state_inputs[s]], target_:targetQ})\n",
    "        lossList.append(loss_val)\n",
    "        rAll += r #record all rewords\n",
    "        s = s1 #set state for next action.\n",
    "\n",
    "        if d == True:\n",
    "            #Reduce chance of random action as we train the model.\n",
    "            e = 1./((i/50) + 10)\n",
    "            break\n",
    "\n",
    "    jList.append(j)\n",
    "    rList.append(rAll)"
   ]
  },
  {
   "cell_type": "code",
   "execution_count": 8,
   "metadata": {
    "collapsed": true
   },
   "outputs": [],
   "source": [
    "# save and restore trained model\n",
    "saver = tf.train.Saver()\n",
    "chk_file_path = \"checkpoints/Q-learning-nn.ckpt\""
   ]
  },
  {
   "cell_type": "code",
   "execution_count": 9,
   "metadata": {
    "collapsed": true
   },
   "outputs": [],
   "source": [
    "# Set learning parameters\n",
    "num_episodes = 15000\n",
    "y = .99\n",
    "e = 0.1 "
   ]
  },
  {
   "cell_type": "code",
   "execution_count": 10,
   "metadata": {
    "collapsed": false
   },
   "outputs": [
    {
     "name": "stdout",
     "output_type": "stream",
     "text": [
      "WARNING:tensorflow:From <ipython-input-10-95324375755e>:5: initialize_all_variables (from tensorflow.python.ops.variables) is deprecated and will be removed after 2017-03-02.\n",
      "Instructions for updating:\n",
      "Use `tf.global_variables_initializer` instead.\n"
     ]
    },
    {
     "name": "stderr",
     "output_type": "stream",
     "text": [
      "[2017-05-08 11:50:17,405] From <ipython-input-10-95324375755e>:5: initialize_all_variables (from tensorflow.python.ops.variables) is deprecated and will be removed after 2017-03-02.\n",
      "Instructions for updating:\n",
      "Use `tf.global_variables_initializer` instead.\n"
     ]
    }
   ],
   "source": [
    "#create lists to contain total rewards and steps per episode\n",
    "jList = []\n",
    "rList = []\n",
    "lossList = []\n",
    "init = tf.initialize_all_variables()\n",
    "with tf.Session() as sess:\n",
    "    state_inputs = np.identity(16) #input data which is also states\n",
    "    sess.run(init)\n",
    "    for i in range(num_episodes):\n",
    "        trainAgent(sess, state_inputs, jList, rList, lossList, y, e);\n",
    "    #save trained model\n",
    "    saver.save(sess, chk_file_path)"
   ]
  },
  {
   "cell_type": "code",
   "execution_count": 11,
   "metadata": {
    "collapsed": false,
    "scrolled": true
   },
   "outputs": [
    {
     "data": {
      "text/plain": [
       "[<matplotlib.lines.Line2D at 0x115102780>]"
      ]
     },
     "execution_count": 11,
     "metadata": {},
     "output_type": "execute_result"
    },
    {
     "data": {
      "image/png": "[encoded data removed]",
      "text/plain": [
       "<matplotlib.figure.Figure at 0x1148a99b0>"
      ]
     },
     "metadata": {},
     "output_type": "display_data"
    }
   ],
   "source": [
    "plt.plot(rList) # the more last, the better result to the destination"
   ]
  },
  {
   "cell_type": "code",
   "execution_count": 12,
   "metadata": {
    "collapsed": false
   },
   "outputs": [
    {
     "data": {
      "text/plain": [
       "[<matplotlib.lines.Line2D at 0x118f6b6d8>]"
      ]
     },
     "execution_count": 12,
     "metadata": {},
     "output_type": "execute_result"
    },
    {
     "data": {
      "image/png": "[encoded data removed]",
      "text/plain": [
       "<matplotlib.figure.Figure at 0x1148a9860>"
      ]
     },
     "metadata": {},
     "output_type": "display_data"
    }
   ],
   "source": [
    "plt.plot(jList)"
   ]
  },
  {
   "cell_type": "markdown",
   "metadata": {},
   "source": [
    "## Test Agent\n",
    "if you already saved training model, you can skip training step and directly start testing"
   ]
  },
  {
   "cell_type": "code",
   "execution_count": 32,
   "metadata": {
    "collapsed": false
   },
   "outputs": [],
   "source": [
    "#Reset environment and get first new observation\n",
    "def testAgent(sess):\n",
    "    state_inputs = np.identity(16) #input data which is also states\n",
    "    s = env.reset()\n",
    "    d = False\n",
    "    j = 0\n",
    "    steps = []\n",
    "    #The Q-network\n",
    "    while j<999:\n",
    "        #env.render() #uncomment this line to show the game simulator\n",
    "        j+=1\n",
    "        #Choose an action by greedily (with e chance of random action) from the Q-network\n",
    "        a= sess.run(predict, feed_dict={input_:[state_inputs[s]]})\n",
    "        #Get new state and reward from environment\n",
    "        s1,r,d,_ = env.step(a[0])\n",
    "        steps.append((s,s1,a[0]))\n",
    "        s = s1 #set state for next action.\n",
    "        if d == True:\n",
    "            #print(s1, r, d)\n",
    "            #print(steps)\n",
    "            break\n",
    "    return r"
   ]
  },
  {
   "cell_type": "code",
   "execution_count": 33,
   "metadata": {
    "collapsed": false
   },
   "outputs": [
    {
     "name": "stdout",
     "output_type": "stream",
     "text": [
      "0.704\n"
     ]
    }
   ],
   "source": [
    "rewards = []\n",
    "with tf.Session() as sess:    \n",
    "    saver.restore(sess, chk_file_path)\n",
    "    for i in range(1000):\n",
    "        r = testAgent(sess)\n",
    "        rewards.append(r)\n",
    "    score = sum(rewards)/1000\n",
    "    print(score)"
   ]
  }
 ],
 "metadata": {
  "anaconda-cloud": {},
  "kernelspec": {
   "display_name": "Python [conda env:tensorflow]",
   "language": "python",
   "name": "conda-env-tensorflow-py"
  },
  "language_info": {
   "codemirror_mode": {
    "name": "ipython",
    "version": 3
   },
   "file_extension": ".py",
   "mimetype": "text/x-python",
   "name": "python",
   "nbconvert_exporter": "python",
   "pygments_lexer": "ipython3",
   "version": "3.5.2"
  }
 },
 "nbformat": 4,
 "nbformat_minor": 2
}
