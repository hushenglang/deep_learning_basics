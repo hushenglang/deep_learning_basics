{
 "cells": [
  {
   "cell_type": "code",
   "execution_count": 28,
   "metadata": {
    "collapsed": false
   },
   "outputs": [
    {
     "name": "stderr",
     "output_type": "stream",
     "text": [
      "/Users/hushenglang/anaconda/envs/tensorflow/lib/python3.5/site-packages/matplotlib/cbook.py:136: MatplotlibDeprecationWarning: The finance module has been deprecated in mpl 2.0 and will be removed in mpl 2.2. Please use the module mpl_finance instead.\n",
      "  warnings.warn(message, mplDeprecation, stacklevel=1)\n"
     ]
    }
   ],
   "source": [
    "import datetime as dt\n",
    "import matplotlib.pyplot as plt\n",
    "from matplotlib import style\n",
    "import pandas as pd\n",
    "import pandas_datareader.data as pdr\n",
    "import matplotlib.dates as mdates\n",
    "from matplotlib.finance import candlestick_ohlc\n",
    "%matplotlib inline\n",
    "style.use('ggplot')"
   ]
  },
  {
   "cell_type": "code",
   "execution_count": 2,
   "metadata": {
    "collapsed": false
   },
   "outputs": [
    {
     "name": "stdout",
     "output_type": "stream",
     "text": [
      "<class 'pandas.core.frame.DataFrame'>\n",
      "DatetimeIndex: 1762 entries, 2010-06-21 to 2017-06-19\n",
      "Data columns (total 6 columns):\n",
      "Open         1762 non-null float64\n",
      "High         1762 non-null float64\n",
      "Low          1762 non-null float64\n",
      "Close        1762 non-null float64\n",
      "Adj Close    1762 non-null float64\n",
      "Volume       1762 non-null int64\n",
      "dtypes: float64(5), int64(1)\n",
      "memory usage: 96.4 KB\n"
     ]
    }
   ],
   "source": [
    "# load the Amazon stock price data\n",
    "df = pd.read_csv(\"data/AMZN.csv\", parse_dates=True, index_col=0)\n",
    "df.info()"
   ]
  },
  {
   "cell_type": "markdown",
   "metadata": {},
   "source": [
    "### Add column 100 moving average\n",
    "\n",
    "The 100-day moving average is a popular technical indicator which investors use to analyze price trends. It is simply a security's average closing price over the last 100 days."
   ]
  },
  {
   "cell_type": "code",
   "execution_count": 3,
   "metadata": {
    "collapsed": false
   },
   "outputs": [],
   "source": [
    "# calculate the 100 moving average\n",
    "df[\"100ma\"] = df[\"Adj Close\"].rolling(window=100, min_periods=0).mean()"
   ]
  },
  {
   "cell_type": "code",
   "execution_count": 4,
   "metadata": {
    "collapsed": false,
    "scrolled": false
   },
   "outputs": [
    {
     "data": {
      "text/html": [
       "<div>\n",
       "<table border=\"1\" class=\"dataframe\">\n",
       "  <thead>\n",
       "    <tr style=\"text-align: right;\">\n",
       "      <th></th>\n",
       "      <th>Open</th>\n",
       "      <th>High</th>\n",
       "      <th>Low</th>\n",
       "      <th>Close</th>\n",
       "      <th>Adj Close</th>\n",
       "      <th>Volume</th>\n",
       "      <th>100ma</th>\n",
       "    </tr>\n",
       "    <tr>\n",
       "      <th>Date</th>\n",
       "      <th></th>\n",
       "      <th></th>\n",
       "      <th></th>\n",
       "      <th></th>\n",
       "      <th></th>\n",
       "      <th></th>\n",
       "      <th></th>\n",
       "    </tr>\n",
       "  </thead>\n",
       "  <tbody>\n",
       "    <tr>\n",
       "      <th>2017-06-13</th>\n",
       "      <td>977.989990</td>\n",
       "      <td>984.500000</td>\n",
       "      <td>966.099976</td>\n",
       "      <td>980.789978</td>\n",
       "      <td>980.789978</td>\n",
       "      <td>4580000</td>\n",
       "      <td>894.241602</td>\n",
       "    </tr>\n",
       "    <tr>\n",
       "      <th>2017-06-14</th>\n",
       "      <td>988.590027</td>\n",
       "      <td>990.340027</td>\n",
       "      <td>966.710022</td>\n",
       "      <td>976.469971</td>\n",
       "      <td>976.469971</td>\n",
       "      <td>3974900</td>\n",
       "      <td>895.923002</td>\n",
       "    </tr>\n",
       "    <tr>\n",
       "      <th>2017-06-15</th>\n",
       "      <td>958.700012</td>\n",
       "      <td>965.729980</td>\n",
       "      <td>950.859985</td>\n",
       "      <td>964.169983</td>\n",
       "      <td>964.169983</td>\n",
       "      <td>5373900</td>\n",
       "      <td>897.385901</td>\n",
       "    </tr>\n",
       "    <tr>\n",
       "      <th>2017-06-16</th>\n",
       "      <td>996.000000</td>\n",
       "      <td>999.750000</td>\n",
       "      <td>982.000000</td>\n",
       "      <td>987.710022</td>\n",
       "      <td>987.710022</td>\n",
       "      <td>11472700</td>\n",
       "      <td>899.038602</td>\n",
       "    </tr>\n",
       "    <tr>\n",
       "      <th>2017-06-19</th>\n",
       "      <td>1017.000000</td>\n",
       "      <td>1017.000000</td>\n",
       "      <td>989.900024</td>\n",
       "      <td>995.169983</td>\n",
       "      <td>995.169983</td>\n",
       "      <td>5006900</td>\n",
       "      <td>900.625101</td>\n",
       "    </tr>\n",
       "  </tbody>\n",
       "</table>\n",
       "</div>"
      ],
      "text/plain": [
       "                   Open         High         Low       Close   Adj Close  \\\n",
       "Date                                                                       \n",
       "2017-06-13   977.989990   984.500000  966.099976  980.789978  980.789978   \n",
       "2017-06-14   988.590027   990.340027  966.710022  976.469971  976.469971   \n",
       "2017-06-15   958.700012   965.729980  950.859985  964.169983  964.169983   \n",
       "2017-06-16   996.000000   999.750000  982.000000  987.710022  987.710022   \n",
       "2017-06-19  1017.000000  1017.000000  989.900024  995.169983  995.169983   \n",
       "\n",
       "              Volume       100ma  \n",
       "Date                              \n",
       "2017-06-13   4580000  894.241602  \n",
       "2017-06-14   3974900  895.923002  \n",
       "2017-06-15   5373900  897.385901  \n",
       "2017-06-16  11472700  899.038602  \n",
       "2017-06-19   5006900  900.625101  "
      ]
     },
     "execution_count": 4,
     "metadata": {},
     "output_type": "execute_result"
    }
   ],
   "source": [
    "df.tail()"
   ]
  },
  {
   "cell_type": "code",
   "execution_count": 5,
   "metadata": {
    "collapsed": false
   },
   "outputs": [
    {
     "data": {
      "image/png": "[encoded data removed]",
      "text/plain": [
       "<matplotlib.figure.Figure at 0x10c508f60>"
      ]
     },
     "metadata": {},
     "output_type": "display_data"
    }
   ],
   "source": [
    "ax1 = plt.subplot2grid((6,1), (0,0), rowspan=5, colspan=1)\n",
    "ax2 = plt.subplot2grid((6,1), (5,0), rowspan=1, colspan=1, sharex=ax1)\n",
    "\n",
    "ax1.plot(df.index, df['Adj Close'])\n",
    "ax1.plot(df.index, df['100ma'], color=\"red\")\n",
    "ax2.bar(df.index, df['Volume'])\n",
    "\n",
    "plt.show()\n"
   ]
  },
  {
   "cell_type": "markdown",
   "metadata": {},
   "source": [
    "### OHLC\n",
    "\n",
    "Pandas resample API: https://pandas.pydata.org/pandas-docs/stable/generated/pandas.DataFrame.resample.html\n",
    "\n",
    "ohlc is for candlestick data"
   ]
  },
  {
   "cell_type": "code",
   "execution_count": 16,
   "metadata": {
    "collapsed": false
   },
   "outputs": [],
   "source": [
    "df_ohlc = df[\"Adj Close\"].resample(\"10D\").ohlc()\n",
    "df_volume = df['Volume'].resample('10D').sum()"
   ]
  },
  {
   "cell_type": "code",
   "execution_count": 17,
   "metadata": {
    "collapsed": false
   },
   "outputs": [
    {
     "data": {
      "text/html": [
       "<div>\n",
       "<table border=\"1\" class=\"dataframe\">\n",
       "  <thead>\n",
       "    <tr style=\"text-align: right;\">\n",
       "      <th></th>\n",
       "      <th>open</th>\n",
       "      <th>high</th>\n",
       "      <th>low</th>\n",
       "      <th>close</th>\n",
       "    </tr>\n",
       "    <tr>\n",
       "      <th>Date</th>\n",
       "      <th></th>\n",
       "      <th></th>\n",
       "      <th></th>\n",
       "      <th></th>\n",
       "    </tr>\n",
       "  </thead>\n",
       "  <tbody>\n",
       "    <tr>\n",
       "      <th>2010-06-21</th>\n",
       "      <td>122.550003</td>\n",
       "      <td>122.550003</td>\n",
       "      <td>108.610001</td>\n",
       "      <td>109.260002</td>\n",
       "    </tr>\n",
       "    <tr>\n",
       "      <th>2010-07-01</th>\n",
       "      <td>110.959999</td>\n",
       "      <td>117.260002</td>\n",
       "      <td>109.139999</td>\n",
       "      <td>117.260002</td>\n",
       "    </tr>\n",
       "    <tr>\n",
       "      <th>2010-07-11</th>\n",
       "      <td>119.510002</td>\n",
       "      <td>123.650002</td>\n",
       "      <td>118.489998</td>\n",
       "      <td>120.099998</td>\n",
       "    </tr>\n",
       "    <tr>\n",
       "      <th>2010-07-21</th>\n",
       "      <td>117.430000</td>\n",
       "      <td>120.070000</td>\n",
       "      <td>116.860001</td>\n",
       "      <td>117.889999</td>\n",
       "    </tr>\n",
       "    <tr>\n",
       "      <th>2010-07-31</th>\n",
       "      <td>120.070000</td>\n",
       "      <td>128.830002</td>\n",
       "      <td>120.070000</td>\n",
       "      <td>128.830002</td>\n",
       "    </tr>\n",
       "  </tbody>\n",
       "</table>\n",
       "</div>"
      ],
      "text/plain": [
       "                  open        high         low       close\n",
       "Date                                                      \n",
       "2010-06-21  122.550003  122.550003  108.610001  109.260002\n",
       "2010-07-01  110.959999  117.260002  109.139999  117.260002\n",
       "2010-07-11  119.510002  123.650002  118.489998  120.099998\n",
       "2010-07-21  117.430000  120.070000  116.860001  117.889999\n",
       "2010-07-31  120.070000  128.830002  120.070000  128.830002"
      ]
     },
     "execution_count": 17,
     "metadata": {},
     "output_type": "execute_result"
    }
   ],
   "source": [
    "df_ohlc.head()"
   ]
  },
  {
   "cell_type": "code",
   "execution_count": 21,
   "metadata": {
    "collapsed": false
   },
   "outputs": [],
   "source": [
    "df_ohlc = df_ohlc.reset_index()"
   ]
  },
  {
   "cell_type": "code",
   "execution_count": 24,
   "metadata": {
    "collapsed": false
   },
   "outputs": [],
   "source": [
    "df_ohlc['Date'] = df_ohlc['Date'].map(mdates.date2num)"
   ]
  },
  {
   "cell_type": "code",
   "execution_count": 25,
   "metadata": {
    "collapsed": false
   },
   "outputs": [
    {
     "data": {
      "text/html": [
       "<div>\n",
       "<table border=\"1\" class=\"dataframe\">\n",
       "  <thead>\n",
       "    <tr style=\"text-align: right;\">\n",
       "      <th></th>\n",
       "      <th>Date</th>\n",
       "      <th>open</th>\n",
       "      <th>high</th>\n",
       "      <th>low</th>\n",
       "      <th>close</th>\n",
       "    </tr>\n",
       "  </thead>\n",
       "  <tbody>\n",
       "    <tr>\n",
       "      <th>0</th>\n",
       "      <td>733944.0</td>\n",
       "      <td>122.550003</td>\n",
       "      <td>122.550003</td>\n",
       "      <td>108.610001</td>\n",
       "      <td>109.260002</td>\n",
       "    </tr>\n",
       "    <tr>\n",
       "      <th>1</th>\n",
       "      <td>733954.0</td>\n",
       "      <td>110.959999</td>\n",
       "      <td>117.260002</td>\n",
       "      <td>109.139999</td>\n",
       "      <td>117.260002</td>\n",
       "    </tr>\n",
       "    <tr>\n",
       "      <th>2</th>\n",
       "      <td>733964.0</td>\n",
       "      <td>119.510002</td>\n",
       "      <td>123.650002</td>\n",
       "      <td>118.489998</td>\n",
       "      <td>120.099998</td>\n",
       "    </tr>\n",
       "    <tr>\n",
       "      <th>3</th>\n",
       "      <td>733974.0</td>\n",
       "      <td>117.430000</td>\n",
       "      <td>120.070000</td>\n",
       "      <td>116.860001</td>\n",
       "      <td>117.889999</td>\n",
       "    </tr>\n",
       "    <tr>\n",
       "      <th>4</th>\n",
       "      <td>733984.0</td>\n",
       "      <td>120.070000</td>\n",
       "      <td>128.830002</td>\n",
       "      <td>120.070000</td>\n",
       "      <td>128.830002</td>\n",
       "    </tr>\n",
       "  </tbody>\n",
       "</table>\n",
       "</div>"
      ],
      "text/plain": [
       "       Date        open        high         low       close\n",
       "0  733944.0  122.550003  122.550003  108.610001  109.260002\n",
       "1  733954.0  110.959999  117.260002  109.139999  117.260002\n",
       "2  733964.0  119.510002  123.650002  118.489998  120.099998\n",
       "3  733974.0  117.430000  120.070000  116.860001  117.889999\n",
       "4  733984.0  120.070000  128.830002  120.070000  128.830002"
      ]
     },
     "execution_count": 25,
     "metadata": {},
     "output_type": "execute_result"
    }
   ],
   "source": [
    "df_ohlc.head()"
   ]
  },
  {
   "cell_type": "code",
   "execution_count": 29,
   "metadata": {
    "collapsed": false
   },
   "outputs": [
    {
     "data": {
      "image/png": "[encoded data removed]",
      "text/plain": [
       "<matplotlib.figure.Figure at 0x111111160>"
      ]
     },
     "metadata": {},
     "output_type": "display_data"
    }
   ],
   "source": [
    "fig = plt.figure()\n",
    "ax1 = plt.subplot2grid((6,1), (0,0), rowspan=5, colspan=1)\n",
    "ax2 = plt.subplot2grid((6,1), (5,0), rowspan=1, colspan=1,sharex=ax1)\n",
    "ax1.xaxis_date()\n",
    "\n",
    "candlestick_ohlc(ax1, df_ohlc.values, width=5, colorup='g')\n",
    "ax2.fill_between(df_volume.index.map(mdates.date2num), df_volume.values, 0)\n",
    "plt.show()"
   ]
  }
 ],
 "metadata": {
  "anaconda-cloud": {},
  "kernelspec": {
   "display_name": "Python [conda env:tensorflow]",
   "language": "python",
   "name": "conda-env-tensorflow-py"
  },
  "language_info": {
   "codemirror_mode": {
    "name": "ipython",
    "version": 3
   },
   "file_extension": ".py",
   "mimetype": "text/x-python",
   "name": "python",
   "nbconvert_exporter": "python",
   "pygments_lexer": "ipython3",
   "version": "3.5.2"
  }
 },
 "nbformat": 4,
 "nbformat_minor": 2
}
